{
 "cells": [
  {
   "cell_type": "code",
   "execution_count": 1,
   "metadata": {
    "executionInfo": {
     "elapsed": 2,
     "status": "ok",
     "timestamp": 1644744417734,
     "user": {
      "displayName": "한기영",
      "photoUrl": "https://lh3.googleusercontent.com/a/default-user=s64",
      "userId": "13049187003176135487"
     },
     "user_tz": -540
    },
    "id": "bTVrr9iaLNsy"
   },
   "outputs": [],
   "source": [
    "import pandas as pd\n",
    "import numpy as np\n",
    "\n",
    "import matplotlib.pyplot as plt\n",
    "import seaborn as sns\n",
    "import scipy.stats as spst\n",
    "from statsmodels.graphics.mosaicplot import mosaic\n",
    "import statsmodels.api as sm\n",
    "import warnings   \n",
    "warnings.filterwarnings(\"ignore\")  # 향후 버전에서 제외될 수 있다는 경고 메시지 감추기"
   ]
  },
  {
   "cell_type": "markdown",
   "metadata": {
    "id": "bBRhuVPyf4td"
   },
   "source": [
    "## 카시트 판매량 데이터"
   ]
  },
  {
   "cell_type": "markdown",
   "metadata": {
    "id": "7usNzsAVsGbi"
   },
   "source": [
    "![](https://cdn.images.express.co.uk/img/dynamic/24/590x/child-car-seat-986556.jpg?r=1532946857754)"
   ]
  },
  {
   "cell_type": "markdown",
   "metadata": {
    "id": "zYKHwYHatC4k"
   },
   "source": [
    "|\t변수명\t|\t설명\t|\t구분\t|\n",
    "|\t----\t|\t----\t|\t----\t|\n",
    "|\tSales \t|\t 각 지역 판매량(단위 : 1000개)\t|\tTarget\t|\n",
    "|\tCompPrice \t|\t 경쟁사 가격(단위 : 달러)\t|\tfeature\t|\n",
    "|\tIncome \t|\t 지역 평균 소득(단위 : 1000달러)\t|\tfeature\t|\n",
    "|\tAdvertising \t|\t 각 지역, 회사의 광고 예산(단위 : 1000달러)\t|\tfeature\t|\n",
    "|\tPopulation \t|\t 지역 인구수(단위 : 1000명)\t|\tfeature\t|\n",
    "|\tPrice \t|\t 자사 지역별 판매가격\t|\tfeature\t|\n",
    "|\tShelveLoc \t|\t 진열상태\t|\tfeature\t|\n",
    "|\tAge \t|\t 지역 인구의 평균 연령\t|\tfeature\t|\n",
    "|\tUrban \t|\t 도심 지역 여부(Yes,No)\t|\tfeature\t|\n",
    "|\tUS \t|\t 매장이 미국에 있는지 여부(Yes,No)\t|\tfeature\t|\n"
   ]
  },
  {
   "cell_type": "code",
   "execution_count": 2,
   "metadata": {
    "colab": {
     "base_uri": "https://localhost:8080/",
     "height": 206
    },
    "executionInfo": {
     "elapsed": 445,
     "status": "ok",
     "timestamp": 1644744428660,
     "user": {
      "displayName": "한기영",
      "photoUrl": "https://lh3.googleusercontent.com/a/default-user=s64",
      "userId": "13049187003176135487"
     },
     "user_tz": -540
    },
    "id": "08FGuKtjpGOj",
    "outputId": "76b88a35-bc3f-4afd-e75f-970f0258672b"
   },
   "outputs": [
    {
     "data": {
      "text/html": [
       "<div>\n",
       "<style scoped>\n",
       "    .dataframe tbody tr th:only-of-type {\n",
       "        vertical-align: middle;\n",
       "    }\n",
       "\n",
       "    .dataframe tbody tr th {\n",
       "        vertical-align: top;\n",
       "    }\n",
       "\n",
       "    .dataframe thead th {\n",
       "        text-align: right;\n",
       "    }\n",
       "</style>\n",
       "<table border=\"1\" class=\"dataframe\">\n",
       "  <thead>\n",
       "    <tr style=\"text-align: right;\">\n",
       "      <th></th>\n",
       "      <th>Sales</th>\n",
       "      <th>CompPrice</th>\n",
       "      <th>Income</th>\n",
       "      <th>Advertising</th>\n",
       "      <th>Population</th>\n",
       "      <th>Price</th>\n",
       "      <th>ShelveLoc</th>\n",
       "      <th>Age</th>\n",
       "      <th>Urban</th>\n",
       "      <th>US</th>\n",
       "    </tr>\n",
       "  </thead>\n",
       "  <tbody>\n",
       "    <tr>\n",
       "      <th>0</th>\n",
       "      <td>9.50</td>\n",
       "      <td>138</td>\n",
       "      <td>73</td>\n",
       "      <td>11</td>\n",
       "      <td>276</td>\n",
       "      <td>120</td>\n",
       "      <td>Bad</td>\n",
       "      <td>42</td>\n",
       "      <td>Yes</td>\n",
       "      <td>Yes</td>\n",
       "    </tr>\n",
       "    <tr>\n",
       "      <th>1</th>\n",
       "      <td>11.22</td>\n",
       "      <td>111</td>\n",
       "      <td>48</td>\n",
       "      <td>16</td>\n",
       "      <td>260</td>\n",
       "      <td>83</td>\n",
       "      <td>Good</td>\n",
       "      <td>65</td>\n",
       "      <td>Yes</td>\n",
       "      <td>Yes</td>\n",
       "    </tr>\n",
       "    <tr>\n",
       "      <th>2</th>\n",
       "      <td>10.06</td>\n",
       "      <td>113</td>\n",
       "      <td>35</td>\n",
       "      <td>10</td>\n",
       "      <td>269</td>\n",
       "      <td>80</td>\n",
       "      <td>Medium</td>\n",
       "      <td>59</td>\n",
       "      <td>Yes</td>\n",
       "      <td>Yes</td>\n",
       "    </tr>\n",
       "    <tr>\n",
       "      <th>3</th>\n",
       "      <td>7.40</td>\n",
       "      <td>117</td>\n",
       "      <td>100</td>\n",
       "      <td>4</td>\n",
       "      <td>466</td>\n",
       "      <td>97</td>\n",
       "      <td>Medium</td>\n",
       "      <td>55</td>\n",
       "      <td>Yes</td>\n",
       "      <td>Yes</td>\n",
       "    </tr>\n",
       "    <tr>\n",
       "      <th>4</th>\n",
       "      <td>4.15</td>\n",
       "      <td>141</td>\n",
       "      <td>64</td>\n",
       "      <td>3</td>\n",
       "      <td>340</td>\n",
       "      <td>128</td>\n",
       "      <td>Bad</td>\n",
       "      <td>38</td>\n",
       "      <td>Yes</td>\n",
       "      <td>No</td>\n",
       "    </tr>\n",
       "  </tbody>\n",
       "</table>\n",
       "</div>"
      ],
      "text/plain": [
       "   Sales  CompPrice  Income  Advertising  Population  Price ShelveLoc  Age  \\\n",
       "0   9.50        138      73           11         276    120       Bad   42   \n",
       "1  11.22        111      48           16         260     83      Good   65   \n",
       "2  10.06        113      35           10         269     80    Medium   59   \n",
       "3   7.40        117     100            4         466     97    Medium   55   \n",
       "4   4.15        141      64            3         340    128       Bad   38   \n",
       "\n",
       "  Urban   US  \n",
       "0   Yes  Yes  \n",
       "1   Yes  Yes  \n",
       "2   Yes  Yes  \n",
       "3   Yes  Yes  \n",
       "4   Yes   No  "
      ]
     },
     "execution_count": 2,
     "metadata": {},
     "output_type": "execute_result"
    }
   ],
   "source": [
    "path = 'https://raw.githubusercontent.com/JunhoYu/Data-Analysis/main/Carseats.csv'\n",
    "data = pd.read_csv(path)\n",
    "data.drop('Education', axis = 1, inplace = True)\n",
    "data.head()"
   ]
  },
  {
   "cell_type": "markdown",
   "metadata": {
    "id": "2KcdJrQNfJCZ"
   },
   "source": [
    "### ① Sales (Target) "
   ]
  },
  {
   "cell_type": "code",
   "execution_count": 3,
   "metadata": {
    "executionInfo": {
     "elapsed": 440,
     "status": "ok",
     "timestamp": 1644742649126,
     "user": {
      "displayName": "한기영",
      "photoUrl": "https://lh3.googleusercontent.com/a/default-user=s64",
      "userId": "13049187003176135487"
     },
     "user_tz": -540
    },
    "id": "Q5mGnZ5ffJCZ"
   },
   "outputs": [],
   "source": [
    "var = 'Sales'"
   ]
  },
  {
   "cell_type": "markdown",
   "metadata": {
    "id": "RkXL80PpfJCa"
   },
   "source": [
    "1) 변수의 비즈니스 의미"
   ]
  },
  {
   "cell_type": "markdown",
   "metadata": {
    "id": "07TIjIVhTHU0"
   },
   "source": [
    "* 각 지역 판매량(단위 : 1000개)\n",
    "* Target"
   ]
  },
  {
   "cell_type": "markdown",
   "metadata": {
    "id": "5Lzur-vKfJCa"
   },
   "source": [
    "2) 숫자, 범주?"
   ]
  },
  {
   "cell_type": "markdown",
   "metadata": {
    "id": "xzWd0xEJTNjo"
   },
   "source": [
    "* 숫자"
   ]
  },
  {
   "cell_type": "markdown",
   "metadata": {
    "id": "KuROaOxIf3AJ"
   },
   "source": [
    "3) NaN 존재 유무 및 조치방안"
   ]
  },
  {
   "cell_type": "code",
   "execution_count": 4,
   "metadata": {
    "colab": {
     "base_uri": "https://localhost:8080/"
    },
    "executionInfo": {
     "elapsed": 5,
     "status": "ok",
     "timestamp": 1644742652003,
     "user": {
      "displayName": "한기영",
      "photoUrl": "https://lh3.googleusercontent.com/a/default-user=s64",
      "userId": "13049187003176135487"
     },
     "user_tz": -540
    },
    "id": "1iBtCnnrfJCa",
    "outputId": "1336200b-9030-4a66-96b3-e8584b46ade9"
   },
   "outputs": [
    {
     "data": {
      "text/plain": [
       "0"
      ]
     },
     "execution_count": 4,
     "metadata": {},
     "output_type": "execute_result"
    }
   ],
   "source": [
    "data[var].isna().sum()"
   ]
  },
  {
   "cell_type": "markdown",
   "metadata": {
    "id": "nny8pXfHTTyc"
   },
   "source": [
    "* NAN 없음"
   ]
  },
  {
   "cell_type": "markdown",
   "metadata": {
    "id": "pYG-6q3rfJCa"
   },
   "source": [
    "4) 가변수화 필요 여부"
   ]
  },
  {
   "cell_type": "markdown",
   "metadata": {
    "id": "wPtX9lFCTYpk"
   },
   "source": [
    "* 숫자형이므로 필요 없음"
   ]
  },
  {
   "cell_type": "markdown",
   "metadata": {
    "id": "H9_8VoENfJCa"
   },
   "source": [
    "5) 기초통계량(수치화)"
   ]
  },
  {
   "cell_type": "code",
   "execution_count": 5,
   "metadata": {
    "colab": {
     "base_uri": "https://localhost:8080/"
    },
    "executionInfo": {
     "elapsed": 429,
     "status": "ok",
     "timestamp": 1644742688038,
     "user": {
      "displayName": "한기영",
      "photoUrl": "https://lh3.googleusercontent.com/a/default-user=s64",
      "userId": "13049187003176135487"
     },
     "user_tz": -540
    },
    "id": "DJpEltSbfJCa",
    "outputId": "b8e43ceb-c103-475d-ee7b-2f001dcd922c"
   },
   "outputs": [
    {
     "data": {
      "text/plain": [
       "count    400.000000\n",
       "mean       7.496325\n",
       "std        2.824115\n",
       "min        0.000000\n",
       "25%        5.390000\n",
       "50%        7.490000\n",
       "75%        9.320000\n",
       "max       16.270000\n",
       "Name: Sales, dtype: float64"
      ]
     },
     "execution_count": 5,
     "metadata": {},
     "output_type": "execute_result"
    }
   ],
   "source": [
    "data[var].describe()"
   ]
  },
  {
   "cell_type": "markdown",
   "metadata": {
    "id": "2mgIyJ3vfJCa"
   },
   "source": [
    "6) 분포 확인(시각화)"
   ]
  },
  {
   "cell_type": "code",
   "execution_count": 6,
   "metadata": {
    "colab": {
     "base_uri": "https://localhost:8080/",
     "height": 642
    },
    "executionInfo": {
     "elapsed": 805,
     "status": "ok",
     "timestamp": 1644742849687,
     "user": {
      "displayName": "한기영",
      "photoUrl": "https://lh3.googleusercontent.com/a/default-user=s64",
      "userId": "13049187003176135487"
     },
     "user_tz": -540
    },
    "id": "8Nnz494-fJCa",
    "outputId": "2195ebd1-9567-46f9-e772-7855142eafd6"
   },
   "outputs": [
    {
     "data": {
      "image/png": "[encoded data removed]",
      "text/plain": [
       "<Figure size 432x576 with 3 Axes>"
      ]
     },
     "metadata": {
      "needs_background": "light"
     },
     "output_type": "display_data"
    }
   ],
   "source": [
    "plt.figure(figsize = (6,8))\n",
    "plt.subplot(3,1,1)\n",
    "sns.histplot(data[var], bins = 20)\n",
    "\n",
    "plt.subplot(3,1,2)\n",
    "sns.kdeplot(data[var])\n",
    "\n",
    "plt.subplot(3,1,3)\n",
    "sns.boxplot(data[var])\n",
    "\n",
    "plt.tight_layout()\n",
    "plt.show()"
   ]
  },
  {
   "cell_type": "markdown",
   "metadata": {
    "id": "s2MLcqE0fJCa"
   },
   "source": [
    "7) 기초통계량과 분포를 통해서 파악한 내용을 적어 봅시다.\n",
    "\n",
    "보이는 그대로를 넘어, 비즈니스 관점에서 고민하며 적어 봅시다."
   ]
  },
  {
   "cell_type": "markdown",
   "metadata": {
    "id": "-SXcWMe6aLpA"
   },
   "source": [
    "* 대부분의 판매량이 5천개 ~ 만개 사이"
   ]
  },
  {
   "cell_type": "markdown",
   "metadata": {
    "id": "hr8edCgEfJCb"
   },
   "source": [
    "8) 추가 분석해 볼 사항이 있나요?"
   ]
  },
  {
   "cell_type": "markdown",
   "metadata": {
    "id": "xlIX_HVJbiJF"
   },
   "source": [
    "* 판매량 구간을 0 ~ 4천, 4천 ~ 1만, 1만 이상 으로 구분해서 분석해 볼 필요 있음."
   ]
  },
  {
   "cell_type": "markdown",
   "metadata": {
    "id": "9WGX3Pm8g8HV"
   },
   "source": [
    "### ② CompPrice"
   ]
  },
  {
   "cell_type": "code",
   "execution_count": 7,
   "metadata": {
    "executionInfo": {
     "elapsed": 452,
     "status": "ok",
     "timestamp": 1644742981428,
     "user": {
      "displayName": "한기영",
      "photoUrl": "https://lh3.googleusercontent.com/a/default-user=s64",
      "userId": "13049187003176135487"
     },
     "user_tz": -540
    },
    "id": "vTZHaVaBUMWS"
   },
   "outputs": [],
   "source": [
    "var = 'CompPrice'"
   ]
  },
  {
   "cell_type": "markdown",
   "metadata": {
    "id": "_Mwhzao8UMWS"
   },
   "source": [
    "1) 변수의 비즈니스 의미"
   ]
  },
  {
   "cell_type": "markdown",
   "metadata": {
    "id": "E-hYmOXcUMWS"
   },
   "source": [
    "* 경쟁사 가격(단위 : 달러)"
   ]
  },
  {
   "cell_type": "markdown",
   "metadata": {
    "id": "9VURX2A0UMWS"
   },
   "source": [
    "2) 숫자, 범주?"
   ]
  },
  {
   "cell_type": "markdown",
   "metadata": {
    "id": "0xFqL4qoUMWT"
   },
   "source": [
    "* 숫자"
   ]
  },
  {
   "cell_type": "markdown",
   "metadata": {
    "id": "k5Lb4_KdUMWT"
   },
   "source": [
    "3) NaN 존재 유무 및 조치방안"
   ]
  },
  {
   "cell_type": "code",
   "execution_count": 8,
   "metadata": {
    "colab": {
     "base_uri": "https://localhost:8080/"
    },
    "executionInfo": {
     "elapsed": 2,
     "status": "ok",
     "timestamp": 1644742983220,
     "user": {
      "displayName": "한기영",
      "photoUrl": "https://lh3.googleusercontent.com/a/default-user=s64",
      "userId": "13049187003176135487"
     },
     "user_tz": -540
    },
    "id": "Tbb3rm1VUMWT",
    "outputId": "803b3e9f-f374-48f7-d6e8-fcb0cba265ea"
   },
   "outputs": [
    {
     "data": {
      "text/plain": [
       "0"
      ]
     },
     "execution_count": 8,
     "metadata": {},
     "output_type": "execute_result"
    }
   ],
   "source": [
    "data[var].isna().sum()"
   ]
  },
  {
   "cell_type": "markdown",
   "metadata": {
    "id": "dCEBXScRUMWT"
   },
   "source": [
    "* NAN 없음"
   ]
  },
  {
   "cell_type": "markdown",
   "metadata": {
    "id": "pgHHJpwjUMWT"
   },
   "source": [
    "4) 가변수화 필요 여부"
   ]
  },
  {
   "cell_type": "markdown",
   "metadata": {
    "id": "vu_nbfoCUMWT"
   },
   "source": [
    "* 숫자형이므로 필요 없음"
   ]
  },
  {
   "cell_type": "markdown",
   "metadata": {
    "id": "qRCPKJGUUMWT"
   },
   "source": [
    "5) 기초통계량(수치화)"
   ]
  },
  {
   "cell_type": "code",
   "execution_count": 9,
   "metadata": {
    "colab": {
     "base_uri": "https://localhost:8080/"
    },
    "executionInfo": {
     "elapsed": 425,
     "status": "ok",
     "timestamp": 1644742987553,
     "user": {
      "displayName": "한기영",
      "photoUrl": "https://lh3.googleusercontent.com/a/default-user=s64",
      "userId": "13049187003176135487"
     },
     "user_tz": -540
    },
    "id": "5EtI4IqMUMWT",
    "outputId": "079e8bb7-0654-4bb1-edd3-2725e6bad13f"
   },
   "outputs": [
    {
     "data": {
      "text/plain": [
       "count    400.000000\n",
       "mean     124.975000\n",
       "std       15.334512\n",
       "min       77.000000\n",
       "25%      115.000000\n",
       "50%      125.000000\n",
       "75%      135.000000\n",
       "max      175.000000\n",
       "Name: CompPrice, dtype: float64"
      ]
     },
     "execution_count": 9,
     "metadata": {},
     "output_type": "execute_result"
    }
   ],
   "source": [
    "data[var].describe()"
   ]
  },
  {
   "cell_type": "markdown",
   "metadata": {
    "id": "Ul1DErRWUMWU"
   },
   "source": [
    "6) 분포 확인(시각화)"
   ]
  },
  {
   "cell_type": "code",
   "execution_count": 10,
   "metadata": {
    "colab": {
     "base_uri": "https://localhost:8080/",
     "height": 642
    },
    "executionInfo": {
     "elapsed": 674,
     "status": "ok",
     "timestamp": 1644742988667,
     "user": {
      "displayName": "한기영",
      "photoUrl": "https://lh3.googleusercontent.com/a/default-user=s64",
      "userId": "13049187003176135487"
     },
     "user_tz": -540
    },
    "id": "m3j45_k9UMWU",
    "outputId": "5ec2095b-9cf9-4b76-e431-b565e9fe1125"
   },
   "outputs": [
    {
     "data": {
      "image/png": "[encoded data removed]",
      "text/plain": [
       "<Figure size 432x576 with 3 Axes>"
      ]
     },
     "metadata": {
      "needs_background": "light"
     },
     "output_type": "display_data"
    }
   ],
   "source": [
    "plt.figure(figsize = (6,8))\n",
    "plt.subplot(3,1,1)\n",
    "sns.histplot(data[var], bins = 20)\n",
    "\n",
    "plt.subplot(3,1,2)\n",
    "sns.kdeplot(data[var])\n",
    "\n",
    "plt.subplot(3,1,3)\n",
    "sns.boxplot(data[var])\n",
    "\n",
    "plt.tight_layout()\n",
    "plt.show()"
   ]
  },
  {
   "cell_type": "markdown",
   "metadata": {
    "id": "wx353mmZg8HX"
   },
   "source": [
    "7) 기초통계량과 분포를 통해서 파악한 내용을 적어 봅시다.\n",
    "\n",
    "보이는 그대로를 넘어, 비즈니스 관점에서 고민하며 적어 봅시다."
   ]
  },
  {
   "cell_type": "markdown",
   "metadata": {
    "id": "fq_U6tlGbznL"
   },
   "source": [
    "* 경쟁사 카시트 가격의 전체 범위는 77 ~  177달러\n",
    "* 대체로, 100 ~ 130 달러로 형성됨.\n",
    "* 제품 종류에 가격대가 차이가 있지 않을까? \n"
   ]
  },
  {
   "cell_type": "markdown",
   "metadata": {
    "id": "vlhNsPplg8HX"
   },
   "source": [
    "8) 추가 분석해 볼 사항이 있나요?"
   ]
  },
  {
   "cell_type": "markdown",
   "metadata": {
    "id": "NA0BhCXacQ0h"
   },
   "source": [
    "* 자사 가격과 비교 : \n",
    "    * 전체 분포 비교\n",
    "    * 지역별 가격 비교"
   ]
  },
  {
   "cell_type": "markdown",
   "metadata": {
    "id": "CPQ4kqneg8SS"
   },
   "source": [
    "### ③ Income"
   ]
  },
  {
   "cell_type": "code",
   "execution_count": 11,
   "metadata": {
    "executionInfo": {
     "elapsed": 1,
     "status": "ok",
     "timestamp": 1644743012123,
     "user": {
      "displayName": "한기영",
      "photoUrl": "https://lh3.googleusercontent.com/a/default-user=s64",
      "userId": "13049187003176135487"
     },
     "user_tz": -540
    },
    "id": "gOTB8szfUPs5"
   },
   "outputs": [],
   "source": [
    "var = 'Income'"
   ]
  },
  {
   "cell_type": "markdown",
   "metadata": {
    "id": "Kccqg3yyUPs6"
   },
   "source": [
    "1) 변수의 비즈니스 의미"
   ]
  },
  {
   "cell_type": "markdown",
   "metadata": {
    "id": "_sPb9VIYUPs6"
   },
   "source": [
    "* 지역 평균 소득(단위 : 1000달러)"
   ]
  },
  {
   "cell_type": "markdown",
   "metadata": {
    "id": "tLuGW204UPs6"
   },
   "source": [
    "2) 숫자, 범주?"
   ]
  },
  {
   "cell_type": "markdown",
   "metadata": {
    "id": "GlVNqu0jUPs6"
   },
   "source": [
    "* 숫자"
   ]
  },
  {
   "cell_type": "markdown",
   "metadata": {
    "id": "6ZMpDczSUPs6"
   },
   "source": [
    "3) NaN 존재 유무 및 조치방안"
   ]
  },
  {
   "cell_type": "code",
   "execution_count": 12,
   "metadata": {
    "colab": {
     "base_uri": "https://localhost:8080/"
    },
    "executionInfo": {
     "elapsed": 522,
     "status": "ok",
     "timestamp": 1644743028959,
     "user": {
      "displayName": "한기영",
      "photoUrl": "https://lh3.googleusercontent.com/a/default-user=s64",
      "userId": "13049187003176135487"
     },
     "user_tz": -540
    },
    "id": "wsbyo23yUPs6",
    "outputId": "37317f95-1c6e-46dd-b1e9-813896600e0e"
   },
   "outputs": [
    {
     "data": {
      "text/plain": [
       "0"
      ]
     },
     "execution_count": 12,
     "metadata": {},
     "output_type": "execute_result"
    }
   ],
   "source": [
    "data[var].isna().sum()"
   ]
  },
  {
   "cell_type": "markdown",
   "metadata": {
    "id": "x9eBbkhXUPs6"
   },
   "source": [
    "* NAN 없음"
   ]
  },
  {
   "cell_type": "markdown",
   "metadata": {
    "id": "ZTlNamSDUPs6"
   },
   "source": [
    "4) 가변수화 필요 여부"
   ]
  },
  {
   "cell_type": "markdown",
   "metadata": {
    "id": "v5NzqGubUPs6"
   },
   "source": [
    "* 숫자형이므로 필요 없음"
   ]
  },
  {
   "cell_type": "markdown",
   "metadata": {
    "id": "SanjUA82UPs7"
   },
   "source": [
    "5) 기초통계량(수치화)"
   ]
  },
  {
   "cell_type": "code",
   "execution_count": 13,
   "metadata": {
    "colab": {
     "base_uri": "https://localhost:8080/"
    },
    "executionInfo": {
     "elapsed": 2,
     "status": "ok",
     "timestamp": 1644743030658,
     "user": {
      "displayName": "한기영",
      "photoUrl": "https://lh3.googleusercontent.com/a/default-user=s64",
      "userId": "13049187003176135487"
     },
     "user_tz": -540
    },
    "id": "2SbR80T0UPs7",
    "outputId": "1afb30d6-88a8-4328-98d4-7cebfd3a7713"
   },
   "outputs": [
    {
     "data": {
      "text/plain": [
       "count    400.000000\n",
       "mean      68.657500\n",
       "std       27.986037\n",
       "min       21.000000\n",
       "25%       42.750000\n",
       "50%       69.000000\n",
       "75%       91.000000\n",
       "max      120.000000\n",
       "Name: Income, dtype: float64"
      ]
     },
     "execution_count": 13,
     "metadata": {},
     "output_type": "execute_result"
    }
   ],
   "source": [
    "data[var].describe()"
   ]
  },
  {
   "cell_type": "markdown",
   "metadata": {
    "id": "zTQjvVcrUPs7"
   },
   "source": [
    "6) 분포 확인(시각화)"
   ]
  },
  {
   "cell_type": "code",
   "execution_count": 14,
   "metadata": {
    "colab": {
     "base_uri": "https://localhost:8080/",
     "height": 642
    },
    "executionInfo": {
     "elapsed": 724,
     "status": "ok",
     "timestamp": 1644743032834,
     "user": {
      "displayName": "한기영",
      "photoUrl": "https://lh3.googleusercontent.com/a/default-user=s64",
      "userId": "13049187003176135487"
     },
     "user_tz": -540
    },
    "id": "wk2Xa6nhUPs7",
    "outputId": "6451e410-debd-4837-b4a2-b14db5f0b9e3"
   },
   "outputs": [
    {
     "data": {
      "image/png": "[encoded data removed]",
      "text/plain": [
       "<Figure size 432x576 with 3 Axes>"
      ]
     },
     "metadata": {
      "needs_background": "light"
     },
     "output_type": "display_data"
    }
   ],
   "source": [
    "plt.figure(figsize = (6,8))\n",
    "plt.subplot(3,1,1)\n",
    "sns.histplot(data[var], bins = 20)\n",
    "\n",
    "plt.subplot(3,1,2)\n",
    "sns.kdeplot(data[var])\n",
    "\n",
    "plt.subplot(3,1,3)\n",
    "sns.boxplot(data[var])\n",
    "\n",
    "plt.tight_layout()\n",
    "plt.show()"
   ]
  },
  {
   "cell_type": "markdown",
   "metadata": {
    "id": "pC8Hhurag8ST"
   },
   "source": [
    "7) 기초통계량과 분포를 통해서 파악한 내용을 적어 봅시다.\n",
    "\n",
    "보이는 그대로를 넘어, 비즈니스 관점에서 고민하며 적어 봅시다."
   ]
  },
  {
   "cell_type": "markdown",
   "metadata": {
    "id": "8wCRudBCcjQR"
   },
   "source": [
    "* 전 연령에 대한 인구별 평균 소득액? 성인에 대한 평균 소득액?\n",
    "* 2만달러 ~ 12만 달러 이므로 연간 소득일 것.\n",
    "* 50%가 약 4만달러 ~ 9만달러"
   ]
  },
  {
   "cell_type": "markdown",
   "metadata": {
    "id": "8XzrJN_0g8ST"
   },
   "source": [
    "8) 추가 분석해 볼 사항이 있나요?"
   ]
  },
  {
   "cell_type": "markdown",
   "metadata": {
    "id": "S6yXt6bndv9y"
   },
   "source": [
    "* 평균 소득과 카스트 판매량과의 관계\n",
    "* 평균 소득과 카스트 가격과의 관계"
   ]
  },
  {
   "cell_type": "markdown",
   "metadata": {
    "id": "oGaBjzSYg8ch"
   },
   "source": [
    "### ④ Advertising"
   ]
  },
  {
   "cell_type": "code",
   "execution_count": 15,
   "metadata": {
    "executionInfo": {
     "elapsed": 437,
     "status": "ok",
     "timestamp": 1644745579462,
     "user": {
      "displayName": "한기영",
      "photoUrl": "https://lh3.googleusercontent.com/a/default-user=s64",
      "userId": "13049187003176135487"
     },
     "user_tz": -540
    },
    "id": "qQU7VSKEUSFH"
   },
   "outputs": [],
   "source": [
    "var = 'Advertising'"
   ]
  },
  {
   "cell_type": "markdown",
   "metadata": {
    "id": "KZeZpnFmUSFH"
   },
   "source": [
    "1) 변수의 비즈니스 의미"
   ]
  },
  {
   "cell_type": "markdown",
   "metadata": {
    "id": "Ggs4rrXTUSFH"
   },
   "source": [
    "* 각 지역, 회사의 광고 예산(단위 : 1000달러)"
   ]
  },
  {
   "cell_type": "markdown",
   "metadata": {
    "id": "0KelG4FVUSFH"
   },
   "source": [
    "2) 숫자, 범주?"
   ]
  },
  {
   "cell_type": "markdown",
   "metadata": {
    "id": "0nhxESd0USFH"
   },
   "source": [
    "* 숫자"
   ]
  },
  {
   "cell_type": "markdown",
   "metadata": {
    "id": "BxQDxD_5USFH"
   },
   "source": [
    "3) NaN 존재 유무 및 조치방안"
   ]
  },
  {
   "cell_type": "code",
   "execution_count": 16,
   "metadata": {
    "colab": {
     "base_uri": "https://localhost:8080/"
    },
    "executionInfo": {
     "elapsed": 3,
     "status": "ok",
     "timestamp": 1644743086413,
     "user": {
      "displayName": "한기영",
      "photoUrl": "https://lh3.googleusercontent.com/a/default-user=s64",
      "userId": "13049187003176135487"
     },
     "user_tz": -540
    },
    "id": "-QieNkANUSFH",
    "outputId": "4cf9bb17-a915-4849-f4b3-805833bdb44e"
   },
   "outputs": [
    {
     "data": {
      "text/plain": [
       "0"
      ]
     },
     "execution_count": 16,
     "metadata": {},
     "output_type": "execute_result"
    }
   ],
   "source": [
    "data[var].isna().sum()"
   ]
  },
  {
   "cell_type": "markdown",
   "metadata": {
    "id": "xsH3ukacUSFH"
   },
   "source": [
    "* NAN 없음"
   ]
  },
  {
   "cell_type": "markdown",
   "metadata": {
    "id": "3F6_IrEbUSFI"
   },
   "source": [
    "4) 가변수화 필요 여부"
   ]
  },
  {
   "cell_type": "markdown",
   "metadata": {
    "id": "e7uoG4HEUSFI"
   },
   "source": [
    "* 숫자형이므로 필요 없음"
   ]
  },
  {
   "cell_type": "markdown",
   "metadata": {
    "id": "jundTkn9USFI"
   },
   "source": [
    "5) 기초통계량(수치화)"
   ]
  },
  {
   "cell_type": "code",
   "execution_count": 17,
   "metadata": {
    "colab": {
     "base_uri": "https://localhost:8080/"
    },
    "executionInfo": {
     "elapsed": 4,
     "status": "ok",
     "timestamp": 1644743088215,
     "user": {
      "displayName": "한기영",
      "photoUrl": "https://lh3.googleusercontent.com/a/default-user=s64",
      "userId": "13049187003176135487"
     },
     "user_tz": -540
    },
    "id": "3AttFA1SUSFI",
    "outputId": "fd8ff648-4e21-4257-9ac7-0b36f1511e78"
   },
   "outputs": [
    {
     "data": {
      "text/plain": [
       "count    400.000000\n",
       "mean       6.635000\n",
       "std        6.650364\n",
       "min        0.000000\n",
       "25%        0.000000\n",
       "50%        5.000000\n",
       "75%       12.000000\n",
       "max       29.000000\n",
       "Name: Advertising, dtype: float64"
      ]
     },
     "execution_count": 17,
     "metadata": {},
     "output_type": "execute_result"
    }
   ],
   "source": [
    "data[var].describe()"
   ]
  },
  {
   "cell_type": "markdown",
   "metadata": {
    "id": "rcpJTVMoUSFI"
   },
   "source": [
    "6) 분포 확인(시각화)"
   ]
  },
  {
   "cell_type": "code",
   "execution_count": 18,
   "metadata": {
    "colab": {
     "base_uri": "https://localhost:8080/",
     "height": 642
    },
    "executionInfo": {
     "elapsed": 715,
     "status": "ok",
     "timestamp": 1644743090223,
     "user": {
      "displayName": "한기영",
      "photoUrl": "https://lh3.googleusercontent.com/a/default-user=s64",
      "userId": "13049187003176135487"
     },
     "user_tz": -540
    },
    "id": "d7u0F_qmUSFI",
    "outputId": "741ad374-90c8-48ca-b75c-6672b5cb7b15"
   },
   "outputs": [
    {
     "data": {
      "image/png": "[encoded data removed]",
      "text/plain": [
       "<Figure size 432x576 with 3 Axes>"
      ]
     },
     "metadata": {
      "needs_background": "light"
     },
     "output_type": "display_data"
    }
   ],
   "source": [
    "plt.figure(figsize = (6,8))\n",
    "plt.subplot(3,1,1)\n",
    "sns.histplot(data[var], bins = 20)\n",
    "\n",
    "plt.subplot(3,1,2)\n",
    "sns.kdeplot(data[var])\n",
    "\n",
    "plt.subplot(3,1,3)\n",
    "sns.boxplot(data[var])\n",
    "\n",
    "plt.tight_layout()\n",
    "plt.show()"
   ]
  },
  {
   "cell_type": "code",
   "execution_count": 19,
   "metadata": {
    "colab": {
     "base_uri": "https://localhost:8080/"
    },
    "executionInfo": {
     "elapsed": 437,
     "status": "ok",
     "timestamp": 1644743177133,
     "user": {
      "displayName": "한기영",
      "photoUrl": "https://lh3.googleusercontent.com/a/default-user=s64",
      "userId": "13049187003176135487"
     },
     "user_tz": -540
    },
    "id": "xxTT8O-cVC8_",
    "outputId": "016f2c70-adef-41f6-d6b5-2ee2276b6506"
   },
   "outputs": [
    {
     "data": {
      "text/plain": [
       "0.36"
      ]
     },
     "execution_count": 19,
     "metadata": {},
     "output_type": "execute_result"
    }
   ],
   "source": [
    "# 광고비 예산이 0 인 지역의 비율.\n",
    "data.loc[data['Advertising']==0].shape[0] / data.shape[0]"
   ]
  },
  {
   "cell_type": "markdown",
   "metadata": {
    "id": "D0t41lFTg8cj"
   },
   "source": [
    "7) 기초통계량과 분포를 통해서 파악한 내용을 적어 봅시다.\n",
    "\n",
    "보이는 그대로를 넘어, 비즈니스 관점에서 고민하며 적어 봅시다."
   ]
  },
  {
   "cell_type": "markdown",
   "metadata": {
    "id": "TbkeMJFPeFGh"
   },
   "source": [
    "* 광고비 예산이 0 인 지역이 전체에 36%나 됨. \n"
   ]
  },
  {
   "cell_type": "code",
   "execution_count": null,
   "metadata": {
    "id": "1RbooC0cg8cj"
   },
   "outputs": [],
   "source": []
  },
  {
   "cell_type": "markdown",
   "metadata": {
    "id": "1ALjv429g8cj"
   },
   "source": [
    "8) 추가 분석해 볼 사항이 있나요?"
   ]
  },
  {
   "cell_type": "markdown",
   "metadata": {
    "id": "_hmX3OOFeNi_"
   },
   "source": [
    "* 광고비 예산 0을 제외하고 분포 확인 필요."
   ]
  },
  {
   "cell_type": "code",
   "execution_count": 20,
   "metadata": {
    "colab": {
     "base_uri": "https://localhost:8080/",
     "height": 585
    },
    "executionInfo": {
     "elapsed": 1230,
     "status": "ok",
     "timestamp": 1644745590959,
     "user": {
      "displayName": "한기영",
      "photoUrl": "https://lh3.googleusercontent.com/a/default-user=s64",
      "userId": "13049187003176135487"
     },
     "user_tz": -540
    },
    "id": "d6CeEwuZg8cj",
    "outputId": "69fce80d-da7f-46dd-dab5-1d60752ade7f"
   },
   "outputs": [
    {
     "data": {
      "image/png": "[encoded data removed]",
      "text/plain": [
       "<Figure size 432x576 with 3 Axes>"
      ]
     },
     "metadata": {
      "needs_background": "light"
     },
     "output_type": "display_data"
    }
   ],
   "source": [
    "temp = data.loc[data[var] != 0]\n",
    "\n",
    "plt.figure(figsize = (6,8))\n",
    "plt.subplot(3,1,1)\n",
    "sns.histplot(temp[var], bins = 20)\n",
    "\n",
    "plt.subplot(3,1,2)\n",
    "sns.kdeplot(temp[var])\n",
    "\n",
    "plt.subplot(3,1,3)\n",
    "sns.boxplot(temp[var])\n",
    "\n",
    "plt.tight_layout()\n",
    "plt.show()"
   ]
  },
  {
   "cell_type": "markdown",
   "metadata": {
    "id": "DN97tfh5elnY"
   },
   "source": [
    "* 광고비 5천달러 이내와 이후로 분포가 나뉨\n",
    "* 광고비 0, 5천달러 이내, 5천달러 이상으로 구분하고, 광고비 예산 구분과, 지역, 소득수준, 인구수 등과 비교할 필요 있음"
   ]
  },
  {
   "cell_type": "markdown",
   "metadata": {
    "id": "Pf9iFSXpg8mZ"
   },
   "source": [
    "### ⑤ Population"
   ]
  },
  {
   "cell_type": "code",
   "execution_count": 21,
   "metadata": {
    "executionInfo": {
     "elapsed": 442,
     "status": "ok",
     "timestamp": 1644743232805,
     "user": {
      "displayName": "한기영",
      "photoUrl": "https://lh3.googleusercontent.com/a/default-user=s64",
      "userId": "13049187003176135487"
     },
     "user_tz": -540
    },
    "id": "Yi3xZSjmUVy6"
   },
   "outputs": [],
   "source": [
    "var = 'Population'"
   ]
  },
  {
   "cell_type": "markdown",
   "metadata": {
    "id": "wSYdMQobUVy6"
   },
   "source": [
    "1) 변수의 비즈니스 의미"
   ]
  },
  {
   "cell_type": "markdown",
   "metadata": {
    "id": "ppEO3bv3UVy6"
   },
   "source": [
    "* 지역 인구수(단위 : 1000명)"
   ]
  },
  {
   "cell_type": "markdown",
   "metadata": {
    "id": "fPmpxsdFUVy6"
   },
   "source": [
    "2) 숫자, 범주?"
   ]
  },
  {
   "cell_type": "markdown",
   "metadata": {
    "id": "aey1bR1eUVy6"
   },
   "source": [
    "* 숫자"
   ]
  },
  {
   "cell_type": "markdown",
   "metadata": {
    "id": "f1WpdYCmUVy6"
   },
   "source": [
    "3) NaN 존재 유무 및 조치방안"
   ]
  },
  {
   "cell_type": "code",
   "execution_count": 22,
   "metadata": {
    "colab": {
     "base_uri": "https://localhost:8080/"
    },
    "executionInfo": {
     "elapsed": 2,
     "status": "ok",
     "timestamp": 1644743234573,
     "user": {
      "displayName": "한기영",
      "photoUrl": "https://lh3.googleusercontent.com/a/default-user=s64",
      "userId": "13049187003176135487"
     },
     "user_tz": -540
    },
    "id": "TOY5FS5nUVy6",
    "outputId": "7df81ea9-8e4f-4175-d005-b9983774dc23"
   },
   "outputs": [
    {
     "data": {
      "text/plain": [
       "0"
      ]
     },
     "execution_count": 22,
     "metadata": {},
     "output_type": "execute_result"
    }
   ],
   "source": [
    "data[var].isna().sum()"
   ]
  },
  {
   "cell_type": "markdown",
   "metadata": {
    "id": "n4iy4fBQUVy6"
   },
   "source": [
    "* NAN 없음"
   ]
  },
  {
   "cell_type": "markdown",
   "metadata": {
    "id": "zPQgIzesUVy7"
   },
   "source": [
    "4) 가변수화 필요 여부"
   ]
  },
  {
   "cell_type": "markdown",
   "metadata": {
    "id": "Gsx9vhV6UVy7"
   },
   "source": [
    "* 숫자형이므로 필요 없음"
   ]
  },
  {
   "cell_type": "markdown",
   "metadata": {
    "id": "6-WpMzSsUVy7"
   },
   "source": [
    "5) 기초통계량(수치화)"
   ]
  },
  {
   "cell_type": "code",
   "execution_count": 23,
   "metadata": {
    "colab": {
     "base_uri": "https://localhost:8080/"
    },
    "executionInfo": {
     "elapsed": 3,
     "status": "ok",
     "timestamp": 1644743236170,
     "user": {
      "displayName": "한기영",
      "photoUrl": "https://lh3.googleusercontent.com/a/default-user=s64",
      "userId": "13049187003176135487"
     },
     "user_tz": -540
    },
    "id": "f9iSBa3xUVy7",
    "outputId": "6cbf3e4d-feea-4023-8cb4-128633694df2"
   },
   "outputs": [
    {
     "data": {
      "text/plain": [
       "count    400.000000\n",
       "mean     264.840000\n",
       "std      147.376436\n",
       "min       10.000000\n",
       "25%      139.000000\n",
       "50%      272.000000\n",
       "75%      398.500000\n",
       "max      509.000000\n",
       "Name: Population, dtype: float64"
      ]
     },
     "execution_count": 23,
     "metadata": {},
     "output_type": "execute_result"
    }
   ],
   "source": [
    "data[var].describe()"
   ]
  },
  {
   "cell_type": "markdown",
   "metadata": {
    "id": "yEBKv15qUVy7"
   },
   "source": [
    "6) 분포 확인(시각화)"
   ]
  },
  {
   "cell_type": "code",
   "execution_count": 24,
   "metadata": {
    "colab": {
     "base_uri": "https://localhost:8080/",
     "height": 585
    },
    "executionInfo": {
     "elapsed": 1536,
     "status": "ok",
     "timestamp": 1644743309543,
     "user": {
      "displayName": "한기영",
      "photoUrl": "https://lh3.googleusercontent.com/a/default-user=s64",
      "userId": "13049187003176135487"
     },
     "user_tz": -540
    },
    "id": "qCq5lwTnUVy7",
    "outputId": "41b43a97-bf67-4bd2-c4e8-dd942bcf16d5"
   },
   "outputs": [
    {
     "data": {
      "image/png": "[encoded data removed]",
      "text/plain": [
       "<Figure size 432x576 with 3 Axes>"
      ]
     },
     "metadata": {
      "needs_background": "light"
     },
     "output_type": "display_data"
    }
   ],
   "source": [
    "plt.figure(figsize = (6,8))\n",
    "plt.subplot(3,1,1)\n",
    "sns.histplot(data[var], bins = 20)\n",
    "\n",
    "plt.subplot(3,1,2)\n",
    "sns.kdeplot(data[var])\n",
    "\n",
    "plt.subplot(3,1,3)\n",
    "sns.boxplot(data[var])\n",
    "\n",
    "plt.tight_layout()\n",
    "plt.show()"
   ]
  },
  {
   "cell_type": "markdown",
   "metadata": {
    "id": "uko6RMgqg8ma"
   },
   "source": [
    "7) 기초통계량과 분포를 통해서 파악한 내용을 적어 봅시다.\n",
    "\n",
    "보이는 그대로를 넘어, 비즈니스 관점에서 고민하며 적어 봅시다."
   ]
  },
  {
   "cell_type": "markdown",
   "metadata": {
    "id": "IkLMkfsGfXFA"
   },
   "source": [
    "* 인구수가 거의 균등분포를 나타낸다. 왜?"
   ]
  },
  {
   "cell_type": "markdown",
   "metadata": {
    "id": "PZXo7mpeg8mb"
   },
   "source": [
    "8) 추가 분석해 볼 사항이 있나요?"
   ]
  },
  {
   "cell_type": "markdown",
   "metadata": {
    "id": "Q5jbL-rxffEj"
   },
   "source": [
    "* 인구수에 따른 판매량 관계\n",
    "* 인구수와 평균연령의 관계"
   ]
  },
  {
   "cell_type": "markdown",
   "metadata": {
    "id": "-MNN7Zplg8wC"
   },
   "source": [
    "### ⑥ Price"
   ]
  },
  {
   "cell_type": "code",
   "execution_count": 25,
   "metadata": {
    "executionInfo": {
     "elapsed": 447,
     "status": "ok",
     "timestamp": 1644743330157,
     "user": {
      "displayName": "한기영",
      "photoUrl": "https://lh3.googleusercontent.com/a/default-user=s64",
      "userId": "13049187003176135487"
     },
     "user_tz": -540
    },
    "id": "IbJhk9p5UXu6"
   },
   "outputs": [],
   "source": [
    "var = 'Price'"
   ]
  },
  {
   "cell_type": "markdown",
   "metadata": {
    "id": "fJIadSMUUXu6"
   },
   "source": [
    "1) 변수의 비즈니스 의미"
   ]
  },
  {
   "cell_type": "markdown",
   "metadata": {
    "id": "HZTYtPV1UXu6"
   },
   "source": [
    "* 자사 지역별 판매가격"
   ]
  },
  {
   "cell_type": "markdown",
   "metadata": {
    "id": "k4mQeqdRUXu7"
   },
   "source": [
    "2) 숫자, 범주?"
   ]
  },
  {
   "cell_type": "markdown",
   "metadata": {
    "id": "hHV6XlpWUXu7"
   },
   "source": [
    "* 숫자"
   ]
  },
  {
   "cell_type": "markdown",
   "metadata": {
    "id": "hEkpPgvFUXu7"
   },
   "source": [
    "3) NaN 존재 유무 및 조치방안"
   ]
  },
  {
   "cell_type": "code",
   "execution_count": 26,
   "metadata": {
    "colab": {
     "base_uri": "https://localhost:8080/"
    },
    "executionInfo": {
     "elapsed": 535,
     "status": "ok",
     "timestamp": 1644743350820,
     "user": {
      "displayName": "한기영",
      "photoUrl": "https://lh3.googleusercontent.com/a/default-user=s64",
      "userId": "13049187003176135487"
     },
     "user_tz": -540
    },
    "id": "y0Rl_mnJUXu7",
    "outputId": "d1d364ac-d326-4f68-c3f3-377077f5c961"
   },
   "outputs": [
    {
     "data": {
      "text/plain": [
       "0"
      ]
     },
     "execution_count": 26,
     "metadata": {},
     "output_type": "execute_result"
    }
   ],
   "source": [
    "data[var].isna().sum()"
   ]
  },
  {
   "cell_type": "markdown",
   "metadata": {
    "id": "Rl-Nn4GUUXu7"
   },
   "source": [
    "* NAN 없음"
   ]
  },
  {
   "cell_type": "markdown",
   "metadata": {
    "id": "DZ2vEfdgUXu7"
   },
   "source": [
    "4) 가변수화 필요 여부"
   ]
  },
  {
   "cell_type": "markdown",
   "metadata": {
    "id": "28t88t5JUXu7"
   },
   "source": [
    "* 숫자형이므로 필요 없음"
   ]
  },
  {
   "cell_type": "markdown",
   "metadata": {
    "id": "6BgEYdOXUXu7"
   },
   "source": [
    "5) 기초통계량(수치화)"
   ]
  },
  {
   "cell_type": "code",
   "execution_count": 27,
   "metadata": {
    "colab": {
     "base_uri": "https://localhost:8080/"
    },
    "executionInfo": {
     "elapsed": 4,
     "status": "ok",
     "timestamp": 1644743352238,
     "user": {
      "displayName": "한기영",
      "photoUrl": "https://lh3.googleusercontent.com/a/default-user=s64",
      "userId": "13049187003176135487"
     },
     "user_tz": -540
    },
    "id": "n4F-qmh2UXu7",
    "outputId": "aaa97664-db17-43eb-bd87-97f385792fd9"
   },
   "outputs": [
    {
     "data": {
      "text/plain": [
       "count    400.000000\n",
       "mean     115.795000\n",
       "std       23.676664\n",
       "min       24.000000\n",
       "25%      100.000000\n",
       "50%      117.000000\n",
       "75%      131.000000\n",
       "max      191.000000\n",
       "Name: Price, dtype: float64"
      ]
     },
     "execution_count": 27,
     "metadata": {},
     "output_type": "execute_result"
    }
   ],
   "source": [
    "data[var].describe()"
   ]
  },
  {
   "cell_type": "markdown",
   "metadata": {
    "id": "b1IgRJTYUXu7"
   },
   "source": [
    "6) 분포 확인(시각화)"
   ]
  },
  {
   "cell_type": "code",
   "execution_count": 28,
   "metadata": {
    "colab": {
     "base_uri": "https://localhost:8080/",
     "height": 585
    },
    "executionInfo": {
     "elapsed": 516,
     "status": "ok",
     "timestamp": 1644743354595,
     "user": {
      "displayName": "한기영",
      "photoUrl": "https://lh3.googleusercontent.com/a/default-user=s64",
      "userId": "13049187003176135487"
     },
     "user_tz": -540
    },
    "id": "YUDBSo3bUXu7",
    "outputId": "1fac3ecf-f142-41a1-ac48-d40aeaf1a51e"
   },
   "outputs": [
    {
     "data": {
      "image/png": "[encoded data removed]",
      "text/plain": [
       "<Figure size 432x576 with 3 Axes>"
      ]
     },
     "metadata": {
      "needs_background": "light"
     },
     "output_type": "display_data"
    }
   ],
   "source": [
    "plt.figure(figsize = (6,8))\n",
    "plt.subplot(3,1,1)\n",
    "sns.histplot(data[var], bins = 20)\n",
    "\n",
    "plt.subplot(3,1,2)\n",
    "sns.kdeplot(data[var])\n",
    "\n",
    "plt.subplot(3,1,3)\n",
    "sns.boxplot(data[var])\n",
    "\n",
    "plt.tight_layout()\n",
    "plt.show()"
   ]
  },
  {
   "cell_type": "markdown",
   "metadata": {
    "id": "PakQk8JHg8wD"
   },
   "source": [
    "7) 기초통계량과 분포를 통해서 파악한 내용을 적어 봅시다.\n",
    "\n",
    "보이는 그대로를 넘어, 비즈니스 관점에서 고민하며 적어 봅시다."
   ]
  },
  {
   "cell_type": "markdown",
   "metadata": {
    "id": "Gp_zyU1afsRm"
   },
   "source": [
    "* 가격대가 24 ~ 191 달러로 경쟁사보다 범위가 넓다.\n",
    "* 50%는 100 ~ 130 사이."
   ]
  },
  {
   "cell_type": "markdown",
   "metadata": {
    "id": "SRGAiRvRg8wD"
   },
   "source": [
    "8) 추가 분석해 볼 사항이 있나요?"
   ]
  },
  {
   "cell_type": "markdown",
   "metadata": {
    "id": "luEdeb_Uf9EP"
   },
   "source": [
    "* 가격에 따라 판매량은 달라질까?\n",
    "* 자사 가격과 경쟁사 가격 비교"
   ]
  },
  {
   "cell_type": "code",
   "execution_count": 29,
   "metadata": {
    "colab": {
     "base_uri": "https://localhost:8080/",
     "height": 388
    },
    "executionInfo": {
     "elapsed": 780,
     "status": "ok",
     "timestamp": 1644746549916,
     "user": {
      "displayName": "한기영",
      "photoUrl": "https://lh3.googleusercontent.com/a/default-user=s64",
      "userId": "13049187003176135487"
     },
     "user_tz": -540
    },
    "id": "52DeXYRJf6HG",
    "outputId": "85a2a71d-2097-4522-ff38-829311c39249"
   },
   "outputs": [
    {
     "data": {
      "image/png": "[encoded data removed]",
      "text/plain": [
       "<Figure size 720x432 with 1 Axes>"
      ]
     },
     "metadata": {
      "needs_background": "light"
     },
     "output_type": "display_data"
    }
   ],
   "source": [
    "plt.figure(figsize = (10,6))\n",
    "sns.kdeplot(data['Price'], label = 'Price')\n",
    "sns.kdeplot(data['CompPrice'], label = 'CompPrice')\n",
    "\n",
    "price_mean = round(np.mean(data['Price']),1)\n",
    "com_mean = round(np.mean(data['CompPrice']),1)\n",
    "\n",
    "plt.axvline(price_mean, color = 'C0', linewidth = .5)\n",
    "plt.axvline(com_mean, color = 'C1', linewidth = .5)\n",
    "\n",
    "plt.text(price_mean-16, 0.001, price_mean, color = 'C0')\n",
    "plt.text(com_mean+5, 0.001, com_mean, color = 'C1')\n",
    "\n",
    "plt.legend()\n",
    "plt.show()"
   ]
  },
  {
   "cell_type": "code",
   "execution_count": 30,
   "metadata": {
    "colab": {
     "base_uri": "https://localhost:8080/",
     "height": 374
    },
    "executionInfo": {
     "elapsed": 446,
     "status": "ok",
     "timestamp": 1644747636814,
     "user": {
      "displayName": "한기영",
      "photoUrl": "https://lh3.googleusercontent.com/a/default-user=s64",
      "userId": "13049187003176135487"
     },
     "user_tz": -540
    },
    "id": "0ZQ-QEE6lW67",
    "outputId": "630a8518-a915-419f-e2cb-bb8eaee9dc0b"
   },
   "outputs": [
    {
     "data": {
      "image/png": "[encoded data removed]",
      "text/plain": [
       "<Figure size 720x432 with 1 Axes>"
      ]
     },
     "metadata": {
      "needs_background": "light"
     },
     "output_type": "display_data"
    }
   ],
   "source": [
    "plt.figure(figsize = (10,6))\n",
    "sns.boxplot(data=data[['Price','CompPrice']], orient=\"h\")\n",
    "plt.show()"
   ]
  },
  {
   "cell_type": "markdown",
   "metadata": {
    "id": "m5zcg9CCg86m"
   },
   "source": [
    "### ⑦ ShelveLoc"
   ]
  },
  {
   "cell_type": "code",
   "execution_count": 31,
   "metadata": {
    "executionInfo": {
     "elapsed": 441,
     "status": "ok",
     "timestamp": 1644743631094,
     "user": {
      "displayName": "한기영",
      "photoUrl": "https://lh3.googleusercontent.com/a/default-user=s64",
      "userId": "13049187003176135487"
     },
     "user_tz": -540
    },
    "id": "fzfJAos6g86m"
   },
   "outputs": [],
   "source": [
    "var = 'ShelveLoc'"
   ]
  },
  {
   "cell_type": "markdown",
   "metadata": {
    "id": "dJBrJUmGg86n"
   },
   "source": [
    "1) 변수의 비즈니스 의미"
   ]
  },
  {
   "cell_type": "markdown",
   "metadata": {
    "id": "HngiZSRAXDbp"
   },
   "source": [
    "* 매장 진열상태"
   ]
  },
  {
   "cell_type": "markdown",
   "metadata": {
    "id": "m1svuzVXg86n"
   },
   "source": [
    "2) 숫자, 범주?"
   ]
  },
  {
   "cell_type": "markdown",
   "metadata": {
    "id": "6bOh0Y_MXG6M"
   },
   "source": [
    "* 범주"
   ]
  },
  {
   "cell_type": "code",
   "execution_count": 32,
   "metadata": {
    "colab": {
     "base_uri": "https://localhost:8080/"
    },
    "executionInfo": {
     "elapsed": 3,
     "status": "ok",
     "timestamp": 1644743670404,
     "user": {
      "displayName": "한기영",
      "photoUrl": "https://lh3.googleusercontent.com/a/default-user=s64",
      "userId": "13049187003176135487"
     },
     "user_tz": -540
    },
    "id": "qYqLLkCPg86n",
    "outputId": "59153bc6-e72b-40f6-ff15-a4f2bf6ddd94"
   },
   "outputs": [
    {
     "data": {
      "text/plain": [
       "array(['Bad', 'Good', 'Medium'], dtype=object)"
      ]
     },
     "execution_count": 32,
     "metadata": {},
     "output_type": "execute_result"
    }
   ],
   "source": [
    "data[var].unique()"
   ]
  },
  {
   "cell_type": "markdown",
   "metadata": {
    "id": "VQLyMqaAXM9C"
   },
   "source": [
    "* 범주 값의 종류 : 'Bad', 'Good', 'Medium'"
   ]
  },
  {
   "cell_type": "markdown",
   "metadata": {
    "id": "3jdBy-nsg86n"
   },
   "source": [
    "3) NaN 존재 유무 및 조치방안"
   ]
  },
  {
   "cell_type": "code",
   "execution_count": 33,
   "metadata": {
    "colab": {
     "base_uri": "https://localhost:8080/"
    },
    "executionInfo": {
     "elapsed": 3,
     "status": "ok",
     "timestamp": 1644743698336,
     "user": {
      "displayName": "한기영",
      "photoUrl": "https://lh3.googleusercontent.com/a/default-user=s64",
      "userId": "13049187003176135487"
     },
     "user_tz": -540
    },
    "id": "R6sOS918g86n",
    "outputId": "9611b289-d2aa-410b-c503-7cca4745e660"
   },
   "outputs": [
    {
     "data": {
      "text/plain": [
       "0"
      ]
     },
     "execution_count": 33,
     "metadata": {},
     "output_type": "execute_result"
    }
   ],
   "source": [
    "data[var].isna().sum()"
   ]
  },
  {
   "cell_type": "markdown",
   "metadata": {
    "id": "HCa-BJi8XS6J"
   },
   "source": [
    "* NA 없음"
   ]
  },
  {
   "cell_type": "markdown",
   "metadata": {
    "id": "J7LX6lUsg86n"
   },
   "source": [
    "4) 가변수화 필요 여부"
   ]
  },
  {
   "cell_type": "markdown",
   "metadata": {
    "id": "c9zi5OtpXUyJ"
   },
   "source": [
    "* 범주형이고, 1,0 값이 아니므로 가변수화 필요."
   ]
  },
  {
   "cell_type": "markdown",
   "metadata": {
    "id": "oBh8J1tDg86n"
   },
   "source": [
    "5) 기초통계량(수치화)"
   ]
  },
  {
   "cell_type": "code",
   "execution_count": 34,
   "metadata": {
    "colab": {
     "base_uri": "https://localhost:8080/"
    },
    "executionInfo": {
     "elapsed": 2,
     "status": "ok",
     "timestamp": 1644743755948,
     "user": {
      "displayName": "한기영",
      "photoUrl": "https://lh3.googleusercontent.com/a/default-user=s64",
      "userId": "13049187003176135487"
     },
     "user_tz": -540
    },
    "id": "dED5nK77g86n",
    "outputId": "a7e90811-6c10-4a7d-e1f9-b27ea090d8b1"
   },
   "outputs": [
    {
     "data": {
      "text/plain": [
       "Medium    219\n",
       "Bad        96\n",
       "Good       85\n",
       "Name: ShelveLoc, dtype: int64"
      ]
     },
     "execution_count": 34,
     "metadata": {},
     "output_type": "execute_result"
    }
   ],
   "source": [
    "# 범주별 빈도수\n",
    "data[var].value_counts()"
   ]
  },
  {
   "cell_type": "code",
   "execution_count": 35,
   "metadata": {
    "colab": {
     "base_uri": "https://localhost:8080/"
    },
    "executionInfo": {
     "elapsed": 4,
     "status": "ok",
     "timestamp": 1644743791152,
     "user": {
      "displayName": "한기영",
      "photoUrl": "https://lh3.googleusercontent.com/a/default-user=s64",
      "userId": "13049187003176135487"
     },
     "user_tz": -540
    },
    "id": "SVBvLgVNXi3O",
    "outputId": "5490b1e6-ec30-47f8-8ad3-32fdfd13519c"
   },
   "outputs": [
    {
     "data": {
      "text/plain": [
       "Medium    0.5475\n",
       "Bad       0.2400\n",
       "Good      0.2125\n",
       "Name: ShelveLoc, dtype: float64"
      ]
     },
     "execution_count": 35,
     "metadata": {},
     "output_type": "execute_result"
    }
   ],
   "source": [
    "# 범주별 비율\n",
    "data[var].value_counts() / data[var].shape[0]"
   ]
  },
  {
   "cell_type": "markdown",
   "metadata": {
    "id": "bNLC1NHRg86n"
   },
   "source": [
    "6) 분포 확인(시각화)"
   ]
  },
  {
   "cell_type": "code",
   "execution_count": 36,
   "metadata": {
    "colab": {
     "base_uri": "https://localhost:8080/",
     "height": 279
    },
    "executionInfo": {
     "elapsed": 5,
     "status": "ok",
     "timestamp": 1644743874730,
     "user": {
      "displayName": "한기영",
      "photoUrl": "https://lh3.googleusercontent.com/a/default-user=s64",
      "userId": "13049187003176135487"
     },
     "user_tz": -540
    },
    "id": "MVney2yog86n",
    "outputId": "d73e0a82-0d1c-4ee9-8a81-845a3998585d"
   },
   "outputs": [
    {
     "data": {
      "image/png": "[encoded data removed]",
      "text/plain": [
       "<Figure size 432x288 with 1 Axes>"
      ]
     },
     "metadata": {
      "needs_background": "light"
     },
     "output_type": "display_data"
    }
   ],
   "source": [
    "sns.countplot(data[var], order = ['Good','Medium','Bad'])\n",
    "plt.show()"
   ]
  },
  {
   "cell_type": "markdown",
   "metadata": {
    "id": "jJMtVG7Og86o"
   },
   "source": [
    "7) 기초통계량과 분포를 통해서 파악한 내용을 적어 봅시다.\n",
    "\n",
    "보이는 그대로를 넘어, 비즈니스 관점에서 고민하며 적어 봅시다."
   ]
  },
  {
   "cell_type": "markdown",
   "metadata": {
    "id": "yFlMfWJfiUqF"
   },
   "source": [
    "* 진열 상태가 중간 정도 가 54%"
   ]
  },
  {
   "cell_type": "markdown",
   "metadata": {
    "id": "eq1EofUKg86o"
   },
   "source": [
    "8) 추가 분석해 볼 사항이 있나요?"
   ]
  },
  {
   "cell_type": "markdown",
   "metadata": {
    "id": "os4givqUjSZm"
   },
   "source": [
    "* 진열상태에 따른 판매량 차이\n",
    "* 지역, 인구수와 진열 상태 관계 비교"
   ]
  },
  {
   "cell_type": "markdown",
   "metadata": {
    "id": "9sLeiF5Kg9EO"
   },
   "source": [
    "### ⑧ Age"
   ]
  },
  {
   "cell_type": "code",
   "execution_count": 37,
   "metadata": {
    "executionInfo": {
     "elapsed": 2,
     "status": "ok",
     "timestamp": 1644743408352,
     "user": {
      "displayName": "한기영",
      "photoUrl": "https://lh3.googleusercontent.com/a/default-user=s64",
      "userId": "13049187003176135487"
     },
     "user_tz": -540
    },
    "id": "H3jAkpbyUb8f"
   },
   "outputs": [],
   "source": [
    "var = 'Age'"
   ]
  },
  {
   "cell_type": "markdown",
   "metadata": {
    "id": "UKazla7SUb8f"
   },
   "source": [
    "1) 변수의 비즈니스 의미"
   ]
  },
  {
   "cell_type": "markdown",
   "metadata": {
    "id": "nNKdHDmPUb8g"
   },
   "source": [
    "* 지역 인구의 평균 연령"
   ]
  },
  {
   "cell_type": "markdown",
   "metadata": {
    "id": "cBD9hlW2Ub8g"
   },
   "source": [
    "2) 숫자, 범주?"
   ]
  },
  {
   "cell_type": "markdown",
   "metadata": {
    "id": "UFNmyUQVUb8g"
   },
   "source": [
    "* 숫자"
   ]
  },
  {
   "cell_type": "markdown",
   "metadata": {
    "id": "_G4wzRFkUb8g"
   },
   "source": [
    "3) NaN 존재 유무 및 조치방안"
   ]
  },
  {
   "cell_type": "code",
   "execution_count": 38,
   "metadata": {
    "colab": {
     "base_uri": "https://localhost:8080/"
    },
    "executionInfo": {
     "elapsed": 638,
     "status": "ok",
     "timestamp": 1644743429171,
     "user": {
      "displayName": "한기영",
      "photoUrl": "https://lh3.googleusercontent.com/a/default-user=s64",
      "userId": "13049187003176135487"
     },
     "user_tz": -540
    },
    "id": "GtzFwtjHUb8g",
    "outputId": "2c4af1ee-3158-423b-93bc-a0914073fb98"
   },
   "outputs": [
    {
     "data": {
      "text/plain": [
       "0"
      ]
     },
     "execution_count": 38,
     "metadata": {},
     "output_type": "execute_result"
    }
   ],
   "source": [
    "data[var].isna().sum()"
   ]
  },
  {
   "cell_type": "markdown",
   "metadata": {
    "id": "XU7X-2RvUb8g"
   },
   "source": [
    "* NAN 없음"
   ]
  },
  {
   "cell_type": "markdown",
   "metadata": {
    "id": "JphmBXNNUb8g"
   },
   "source": [
    "4) 가변수화 필요 여부"
   ]
  },
  {
   "cell_type": "markdown",
   "metadata": {
    "id": "Crg1nqS6Ub8h"
   },
   "source": [
    "* 숫자형이므로 필요 없음"
   ]
  },
  {
   "cell_type": "markdown",
   "metadata": {
    "id": "jVuMLJbwUb8h"
   },
   "source": [
    "5) 기초통계량(수치화)"
   ]
  },
  {
   "cell_type": "code",
   "execution_count": 39,
   "metadata": {
    "colab": {
     "base_uri": "https://localhost:8080/"
    },
    "executionInfo": {
     "elapsed": 3,
     "status": "ok",
     "timestamp": 1644743431037,
     "user": {
      "displayName": "한기영",
      "photoUrl": "https://lh3.googleusercontent.com/a/default-user=s64",
      "userId": "13049187003176135487"
     },
     "user_tz": -540
    },
    "id": "zSDm4ExjUb8h",
    "outputId": "b5f6badd-3129-472e-e491-4931e44db0a3"
   },
   "outputs": [
    {
     "data": {
      "text/plain": [
       "count    400.000000\n",
       "mean      53.322500\n",
       "std       16.200297\n",
       "min       25.000000\n",
       "25%       39.750000\n",
       "50%       54.500000\n",
       "75%       66.000000\n",
       "max       80.000000\n",
       "Name: Age, dtype: float64"
      ]
     },
     "execution_count": 39,
     "metadata": {},
     "output_type": "execute_result"
    }
   ],
   "source": [
    "data[var].describe()"
   ]
  },
  {
   "cell_type": "markdown",
   "metadata": {
    "id": "bSfjpoVHUb8h"
   },
   "source": [
    "6) 분포 확인(시각화)"
   ]
  },
  {
   "cell_type": "code",
   "execution_count": 40,
   "metadata": {
    "colab": {
     "base_uri": "https://localhost:8080/",
     "height": 585
    },
    "executionInfo": {
     "elapsed": 699,
     "status": "ok",
     "timestamp": 1644743433141,
     "user": {
      "displayName": "한기영",
      "photoUrl": "https://lh3.googleusercontent.com/a/default-user=s64",
      "userId": "13049187003176135487"
     },
     "user_tz": -540
    },
    "id": "yrqTxpx9Ub8h",
    "outputId": "740dc046-1e58-4017-8284-9c2f247135eb"
   },
   "outputs": [
    {
     "data": {
      "image/png": "[encoded data removed]",
      "text/plain": [
       "<Figure size 432x576 with 3 Axes>"
      ]
     },
     "metadata": {
      "needs_background": "light"
     },
     "output_type": "display_data"
    }
   ],
   "source": [
    "plt.figure(figsize = (6,8))\n",
    "plt.subplot(3,1,1)\n",
    "sns.histplot(data[var], bins = 20)\n",
    "\n",
    "plt.subplot(3,1,2)\n",
    "sns.kdeplot(data[var])\n",
    "\n",
    "plt.subplot(3,1,3)\n",
    "sns.boxplot(data[var])\n",
    "\n",
    "plt.tight_layout()\n",
    "plt.show()"
   ]
  },
  {
   "cell_type": "markdown",
   "metadata": {
    "id": "6HOl7KCRg9EP"
   },
   "source": [
    "7) 기초통계량과 분포를 통해서 파악한 내용을 적어 봅시다.\n",
    "\n",
    "보이는 그대로를 넘어, 비즈니스 관점에서 고민하며 적어 봅시다."
   ]
  },
  {
   "cell_type": "markdown",
   "metadata": {
    "id": "EVR4hzFnjiE1"
   },
   "source": [
    "* 지역별 평균나이는 거의 균등분포로 보임.\n",
    "* 균등분포 ==> 임의로 이렇게 모았거나, 여러 분포가 섞였거나, 이상치를 처리했거나...\n",
    "\n",
    "* 평균나이\n",
    "    * 지역 인구 전체에 대한 평균\n",
    "    * 카시트가 필요한 사람은, 약 10세 이하 자녀를 둔 부모\n",
    "    * 10세 이하 자녀들과 20대후반 ~ 40세의 부모가 주축인 인구의 평균 나이는?"
   ]
  },
  {
   "cell_type": "markdown",
   "metadata": {
    "id": "EtnLunngg9EP"
   },
   "source": [
    "8) 추가 분석해 볼 사항이 있나요?"
   ]
  },
  {
   "cell_type": "markdown",
   "metadata": {
    "id": "lzT_kkrFjyVb"
   },
   "source": [
    "* 가장 판매량이 높은 평균나이는?\n"
   ]
  },
  {
   "cell_type": "code",
   "execution_count": null,
   "metadata": {
    "id": "TR6Q3-dJg9EP"
   },
   "outputs": [],
   "source": []
  },
  {
   "cell_type": "markdown",
   "metadata": {
    "id": "GmxZa7uvhyXO"
   },
   "source": [
    "### ⑨ Urban"
   ]
  },
  {
   "cell_type": "code",
   "execution_count": 41,
   "metadata": {
    "executionInfo": {
     "elapsed": 428,
     "status": "ok",
     "timestamp": 1644743922172,
     "user": {
      "displayName": "한기영",
      "photoUrl": "https://lh3.googleusercontent.com/a/default-user=s64",
      "userId": "13049187003176135487"
     },
     "user_tz": -540
    },
    "id": "vQ9qjXQ0YDGk"
   },
   "outputs": [],
   "source": [
    "var = 'Urban'"
   ]
  },
  {
   "cell_type": "markdown",
   "metadata": {
    "id": "Z_SDqaBhYDGl"
   },
   "source": [
    "1) 변수의 비즈니스 의미"
   ]
  },
  {
   "cell_type": "markdown",
   "metadata": {
    "id": "APG3QTcSYDGl"
   },
   "source": [
    "* 도심 지역 여부"
   ]
  },
  {
   "cell_type": "markdown",
   "metadata": {
    "id": "74_cMuMmYDGl"
   },
   "source": [
    "2) 숫자, 범주?"
   ]
  },
  {
   "cell_type": "markdown",
   "metadata": {
    "id": "Y2PkvsviYDGl"
   },
   "source": [
    "* 범주"
   ]
  },
  {
   "cell_type": "code",
   "execution_count": 42,
   "metadata": {
    "colab": {
     "base_uri": "https://localhost:8080/"
    },
    "executionInfo": {
     "elapsed": 2,
     "status": "ok",
     "timestamp": 1644743923748,
     "user": {
      "displayName": "한기영",
      "photoUrl": "https://lh3.googleusercontent.com/a/default-user=s64",
      "userId": "13049187003176135487"
     },
     "user_tz": -540
    },
    "id": "seNhUCXoYDGl",
    "outputId": "9ad66e37-339c-4566-afbb-fc13a96cb2f2"
   },
   "outputs": [
    {
     "data": {
      "text/plain": [
       "array(['Yes', 'No'], dtype=object)"
      ]
     },
     "execution_count": 42,
     "metadata": {},
     "output_type": "execute_result"
    }
   ],
   "source": [
    "data[var].unique()"
   ]
  },
  {
   "cell_type": "markdown",
   "metadata": {
    "id": "sDUE3N8xYDGl"
   },
   "source": [
    "* 범주 값의 종류 : 'Yes', 'No'"
   ]
  },
  {
   "cell_type": "markdown",
   "metadata": {
    "id": "U7x7FqogYDGl"
   },
   "source": [
    "3) NaN 존재 유무 및 조치방안"
   ]
  },
  {
   "cell_type": "code",
   "execution_count": 43,
   "metadata": {
    "colab": {
     "base_uri": "https://localhost:8080/"
    },
    "executionInfo": {
     "elapsed": 442,
     "status": "ok",
     "timestamp": 1644743935017,
     "user": {
      "displayName": "한기영",
      "photoUrl": "https://lh3.googleusercontent.com/a/default-user=s64",
      "userId": "13049187003176135487"
     },
     "user_tz": -540
    },
    "id": "6_kIGrjBYDGm",
    "outputId": "98b9e693-8db6-4577-a18f-e45b1974be01"
   },
   "outputs": [
    {
     "data": {
      "text/plain": [
       "0"
      ]
     },
     "execution_count": 43,
     "metadata": {},
     "output_type": "execute_result"
    }
   ],
   "source": [
    "data[var].isna().sum()"
   ]
  },
  {
   "cell_type": "markdown",
   "metadata": {
    "id": "kZWK8vBAYDGm"
   },
   "source": [
    "* NA 없음"
   ]
  },
  {
   "cell_type": "markdown",
   "metadata": {
    "id": "yHclQh93YDGm"
   },
   "source": [
    "4) 가변수화 필요 여부"
   ]
  },
  {
   "cell_type": "markdown",
   "metadata": {
    "id": "OR-2eBgRYDGm"
   },
   "source": [
    "* 범주형이고, 1,0 값이 아니므로 가변수화 필요."
   ]
  },
  {
   "cell_type": "markdown",
   "metadata": {
    "id": "p7J3WQ6nYDGm"
   },
   "source": [
    "5) 기초통계량(수치화)"
   ]
  },
  {
   "cell_type": "code",
   "execution_count": 44,
   "metadata": {
    "colab": {
     "base_uri": "https://localhost:8080/"
    },
    "executionInfo": {
     "elapsed": 450,
     "status": "ok",
     "timestamp": 1644743943654,
     "user": {
      "displayName": "한기영",
      "photoUrl": "https://lh3.googleusercontent.com/a/default-user=s64",
      "userId": "13049187003176135487"
     },
     "user_tz": -540
    },
    "id": "Yndps4WNYDGm",
    "outputId": "351d1f1f-9aed-4e5f-e9e3-29fd001d70a1"
   },
   "outputs": [
    {
     "data": {
      "text/plain": [
       "Yes    282\n",
       "No     118\n",
       "Name: Urban, dtype: int64"
      ]
     },
     "execution_count": 44,
     "metadata": {},
     "output_type": "execute_result"
    }
   ],
   "source": [
    "# 범주별 빈도수\n",
    "data[var].value_counts()"
   ]
  },
  {
   "cell_type": "code",
   "execution_count": 45,
   "metadata": {
    "colab": {
     "base_uri": "https://localhost:8080/"
    },
    "executionInfo": {
     "elapsed": 5,
     "status": "ok",
     "timestamp": 1644743943655,
     "user": {
      "displayName": "한기영",
      "photoUrl": "https://lh3.googleusercontent.com/a/default-user=s64",
      "userId": "13049187003176135487"
     },
     "user_tz": -540
    },
    "id": "2rgd7bXJYDGm",
    "outputId": "86cca9c6-14ec-45fc-b347-4ff7b35716d8"
   },
   "outputs": [
    {
     "data": {
      "text/plain": [
       "Yes    0.705\n",
       "No     0.295\n",
       "Name: Urban, dtype: float64"
      ]
     },
     "execution_count": 45,
     "metadata": {},
     "output_type": "execute_result"
    }
   ],
   "source": [
    "# 범주별 비율\n",
    "data[var].value_counts() / data[var].shape[0]"
   ]
  },
  {
   "cell_type": "markdown",
   "metadata": {
    "id": "7ew0eP-UYDGm"
   },
   "source": [
    "6) 분포 확인(시각화)"
   ]
  },
  {
   "cell_type": "code",
   "execution_count": 46,
   "metadata": {
    "colab": {
     "base_uri": "https://localhost:8080/",
     "height": 279
    },
    "executionInfo": {
     "elapsed": 422,
     "status": "ok",
     "timestamp": 1644743957642,
     "user": {
      "displayName": "한기영",
      "photoUrl": "https://lh3.googleusercontent.com/a/default-user=s64",
      "userId": "13049187003176135487"
     },
     "user_tz": -540
    },
    "id": "Q9ekuNgLYDGn",
    "outputId": "1bba1917-d9d7-4daf-8645-e0905343940b"
   },
   "outputs": [
    {
     "data": {
      "image/png": "[encoded data removed]",
      "text/plain": [
       "<Figure size 432x288 with 1 Axes>"
      ]
     },
     "metadata": {
      "needs_background": "light"
     },
     "output_type": "display_data"
    }
   ],
   "source": [
    "sns.countplot(data[var], order = ['Yes','No'])\n",
    "plt.show()"
   ]
  },
  {
   "cell_type": "markdown",
   "metadata": {
    "id": "mk1xIymFhyXQ"
   },
   "source": [
    "7) 기초통계량과 분포를 통해서 파악한 내용을 적어 봅시다.\n",
    "\n",
    "보이는 그대로를 넘어, 비즈니스 관점에서 고민하며 적어 봅시다."
   ]
  },
  {
   "cell_type": "markdown",
   "metadata": {
    "id": "EU_PoP7WksHO"
   },
   "source": [
    "* 약 70% 매장이 도시에 있음"
   ]
  },
  {
   "cell_type": "markdown",
   "metadata": {
    "id": "uWnlgNkxhyXV"
   },
   "source": [
    "8) 추가 분석해 볼 사항이 있나요?"
   ]
  },
  {
   "cell_type": "markdown",
   "metadata": {
    "id": "YhBwIJJTkxs5"
   },
   "source": [
    "* 도시와 지방의 인구수, 소득수준, 자사 가격, 경쟁사 가격, 광고예산, 판매량 비교 필요."
   ]
  },
  {
   "cell_type": "markdown",
   "metadata": {
    "id": "ieLyLWqehz_N"
   },
   "source": [
    "### ⑩ US"
   ]
  },
  {
   "cell_type": "code",
   "execution_count": 47,
   "metadata": {
    "executionInfo": {
     "elapsed": 540,
     "status": "ok",
     "timestamp": 1644744026374,
     "user": {
      "displayName": "한기영",
      "photoUrl": "https://lh3.googleusercontent.com/a/default-user=s64",
      "userId": "13049187003176135487"
     },
     "user_tz": -540
    },
    "id": "PGGG2kYOYEyb"
   },
   "outputs": [],
   "source": [
    "var = 'US'"
   ]
  },
  {
   "cell_type": "markdown",
   "metadata": {
    "id": "3U8qaK9uYEyb"
   },
   "source": [
    "1) 변수의 비즈니스 의미"
   ]
  },
  {
   "cell_type": "markdown",
   "metadata": {
    "id": "oTnx5AkOYEyb"
   },
   "source": [
    "* 매장이 미국에 있는지 여부"
   ]
  },
  {
   "cell_type": "markdown",
   "metadata": {
    "id": "j_sUKNsRYEyb"
   },
   "source": [
    "2) 숫자, 범주?"
   ]
  },
  {
   "cell_type": "markdown",
   "metadata": {
    "id": "FteBsSSgYEyb"
   },
   "source": [
    "* 범주"
   ]
  },
  {
   "cell_type": "code",
   "execution_count": 48,
   "metadata": {
    "colab": {
     "base_uri": "https://localhost:8080/"
    },
    "executionInfo": {
     "elapsed": 4,
     "status": "ok",
     "timestamp": 1644744027917,
     "user": {
      "displayName": "한기영",
      "photoUrl": "https://lh3.googleusercontent.com/a/default-user=s64",
      "userId": "13049187003176135487"
     },
     "user_tz": -540
    },
    "id": "xRCiex9qYEyb",
    "outputId": "bc742413-73b7-4e81-ae98-48f0817a063f"
   },
   "outputs": [
    {
     "data": {
      "text/plain": [
       "array(['Yes', 'No'], dtype=object)"
      ]
     },
     "execution_count": 48,
     "metadata": {},
     "output_type": "execute_result"
    }
   ],
   "source": [
    "data[var].unique()"
   ]
  },
  {
   "cell_type": "markdown",
   "metadata": {
    "id": "uRtwbYVrYEyb"
   },
   "source": [
    "* 범주 값의 종류 : 'Yes', 'No'"
   ]
  },
  {
   "cell_type": "markdown",
   "metadata": {
    "id": "I8YcXO0zYEyc"
   },
   "source": [
    "3) NaN 존재 유무 및 조치방안"
   ]
  },
  {
   "cell_type": "code",
   "execution_count": 49,
   "metadata": {
    "colab": {
     "base_uri": "https://localhost:8080/"
    },
    "executionInfo": {
     "elapsed": 421,
     "status": "ok",
     "timestamp": 1644744037708,
     "user": {
      "displayName": "한기영",
      "photoUrl": "https://lh3.googleusercontent.com/a/default-user=s64",
      "userId": "13049187003176135487"
     },
     "user_tz": -540
    },
    "id": "fTC0VnYhYEyc",
    "outputId": "0c5d2f2a-2cd2-43a4-b784-61539214b96f"
   },
   "outputs": [
    {
     "data": {
      "text/plain": [
       "0"
      ]
     },
     "execution_count": 49,
     "metadata": {},
     "output_type": "execute_result"
    }
   ],
   "source": [
    "data[var].isna().sum()"
   ]
  },
  {
   "cell_type": "markdown",
   "metadata": {
    "id": "s3csieJ4YEyc"
   },
   "source": [
    "* NA 없음"
   ]
  },
  {
   "cell_type": "markdown",
   "metadata": {
    "id": "_xRiKsZeYEyc"
   },
   "source": [
    "4) 가변수화 필요 여부"
   ]
  },
  {
   "cell_type": "markdown",
   "metadata": {
    "id": "Wv0SPavGYEyc"
   },
   "source": [
    "* 범주형이고, 1,0 값이 아니므로 가변수화 필요."
   ]
  },
  {
   "cell_type": "markdown",
   "metadata": {
    "id": "TChAcOSWYEyc"
   },
   "source": [
    "5) 기초통계량(수치화)"
   ]
  },
  {
   "cell_type": "code",
   "execution_count": 50,
   "metadata": {
    "colab": {
     "base_uri": "https://localhost:8080/"
    },
    "executionInfo": {
     "elapsed": 2,
     "status": "ok",
     "timestamp": 1644744039374,
     "user": {
      "displayName": "한기영",
      "photoUrl": "https://lh3.googleusercontent.com/a/default-user=s64",
      "userId": "13049187003176135487"
     },
     "user_tz": -540
    },
    "id": "pTP_ZKvAYEyc",
    "outputId": "9b0f2b8a-adf4-4226-f3e0-a7a315997850"
   },
   "outputs": [
    {
     "data": {
      "text/plain": [
       "Yes    258\n",
       "No     142\n",
       "Name: US, dtype: int64"
      ]
     },
     "execution_count": 50,
     "metadata": {},
     "output_type": "execute_result"
    }
   ],
   "source": [
    "# 범주별 빈도수\n",
    "data[var].value_counts()"
   ]
  },
  {
   "cell_type": "code",
   "execution_count": 51,
   "metadata": {
    "colab": {
     "base_uri": "https://localhost:8080/"
    },
    "executionInfo": {
     "elapsed": 2,
     "status": "ok",
     "timestamp": 1644744039801,
     "user": {
      "displayName": "한기영",
      "photoUrl": "https://lh3.googleusercontent.com/a/default-user=s64",
      "userId": "13049187003176135487"
     },
     "user_tz": -540
    },
    "id": "OuZfr9lvYEyc",
    "outputId": "e2503123-1225-4bf0-9beb-7d79bc86c3a8"
   },
   "outputs": [
    {
     "data": {
      "text/plain": [
       "Yes    0.645\n",
       "No     0.355\n",
       "Name: US, dtype: float64"
      ]
     },
     "execution_count": 51,
     "metadata": {},
     "output_type": "execute_result"
    }
   ],
   "source": [
    "# 범주별 비율\n",
    "data[var].value_counts() / data[var].shape[0]"
   ]
  },
  {
   "cell_type": "markdown",
   "metadata": {
    "id": "FBiBu2qaYEyc"
   },
   "source": [
    "6) 분포 확인(시각화)"
   ]
  },
  {
   "cell_type": "code",
   "execution_count": 52,
   "metadata": {
    "colab": {
     "base_uri": "https://localhost:8080/",
     "height": 279
    },
    "executionInfo": {
     "elapsed": 480,
     "status": "ok",
     "timestamp": 1644744044790,
     "user": {
      "displayName": "한기영",
      "photoUrl": "https://lh3.googleusercontent.com/a/default-user=s64",
      "userId": "13049187003176135487"
     },
     "user_tz": -540
    },
    "id": "Z6i_zuSaYEyd",
    "outputId": "df739a33-93cf-49fa-f384-5faca0a0aec9"
   },
   "outputs": [
    {
     "data": {
      "image/png": "[encoded data removed]",
      "text/plain": [
       "<Figure size 432x288 with 1 Axes>"
      ]
     },
     "metadata": {
      "needs_background": "light"
     },
     "output_type": "display_data"
    }
   ],
   "source": [
    "sns.countplot(data[var], order = ['Yes', 'No'])\n",
    "plt.show()"
   ]
  },
  {
   "cell_type": "markdown",
   "metadata": {
    "id": "gnp_hJExhz_O"
   },
   "source": [
    "7) 기초통계량과 분포를 통해서 파악한 내용을 적어 봅시다.\n",
    "\n",
    "보이는 그대로를 넘어, 비즈니스 관점에서 고민하며 적어 봅시다."
   ]
  },
  {
   "cell_type": "markdown",
   "metadata": {
    "id": "-mAl2t92k-4E"
   },
   "source": [
    "* 약 65%가 국내(미국)"
   ]
  },
  {
   "cell_type": "markdown",
   "metadata": {
    "id": "g3UL3aqhhz_O"
   },
   "source": [
    "8) 추가 분석해 볼 사항이 있나요?"
   ]
  },
  {
   "cell_type": "markdown",
   "metadata": {
    "id": "jbAB4feDlDRs"
   },
   "source": [
    "* 국내외 와 광고비, 판매가, 경쟁사가격, 매출액 등 비교"
   ]
  },
  {
   "cell_type": "markdown",
   "metadata": {},
   "source": [
    "### (1) 숫자형(수치형) X --> Y"
   ]
  },
  {
   "cell_type": "markdown",
   "metadata": {},
   "source": [
    "#### ① Advertising -> Sales"
   ]
  },
  {
   "cell_type": "code",
   "execution_count": 53,
   "metadata": {},
   "outputs": [
    {
     "data": {
      "image/png": "[encoded data removed]",
      "text/plain": [
       "<Figure size 432x288 with 1 Axes>"
      ]
     },
     "metadata": {
      "needs_background": "light"
     },
     "output_type": "display_data"
    }
   ],
   "source": [
    "target = 'Sales'\n",
    "var = 'Advertising'\n",
    "\n",
    "sns.scatterplot(x=var, y = target, data = data)\n",
    "plt.show()"
   ]
  },
  {
   "cell_type": "code",
   "execution_count": 54,
   "metadata": {},
   "outputs": [
    {
     "data": {
      "image/png": "[encoded data removed]",
      "text/plain": [
       "<Figure size 432x288 with 1 Axes>"
      ]
     },
     "metadata": {
      "needs_background": "light"
     },
     "output_type": "display_data"
    }
   ],
   "source": [
    "sns.regplot(x=var, y = target, data = data)\n",
    "plt.show()"
   ]
  },
  {
   "cell_type": "code",
   "execution_count": 55,
   "metadata": {},
   "outputs": [
    {
     "data": {
      "image/png": "[encoded data removed]",
      "text/plain": [
       "<Figure size 432x432 with 3 Axes>"
      ]
     },
     "metadata": {
      "needs_background": "light"
     },
     "output_type": "display_data"
    }
   ],
   "source": [
    "sns.jointplot(x=var, y = target, data = data)\n",
    "plt.show()"
   ]
  },
  {
   "cell_type": "markdown",
   "metadata": {},
   "source": [
    "2) 수치화 : 상관분석"
   ]
  },
  {
   "cell_type": "code",
   "execution_count": 56,
   "metadata": {},
   "outputs": [
    {
     "name": "stdout",
     "output_type": "stream",
     "text": [
      "상관계수 : 0.2695067813769019, p-value : 4.377677110302732e-08\n"
     ]
    }
   ],
   "source": [
    "result = spst.pearsonr(data[var], data[target])\n",
    "print(f'상관계수 : {result[0]}, p-value : {result[1]}')"
   ]
  },
  {
   "cell_type": "markdown",
   "metadata": {},
   "source": [
    "* 광고 예산에 따라 판매량은 약한 관계가 있다.\n",
    "* 그러나 이게 다인가?\n",
    "* 광고 예산이 0인 지역이 대부분. 그러므로 0을 빼고 비교해보는게 필요.\n",
    "* 광고 예산 자체보다, 지역 인구당 광고비 비율 등을 추가로 도출해서 비교해보는 것 필요."
   ]
  },
  {
   "cell_type": "markdown",
   "metadata": {},
   "source": [
    "#### ② Population -> Sales"
   ]
  },
  {
   "cell_type": "code",
   "execution_count": 57,
   "metadata": {},
   "outputs": [
    {
     "data": {
      "image/png": "[encoded data removed]",
      "text/plain": [
       "<Figure size 432x288 with 1 Axes>"
      ]
     },
     "metadata": {
      "needs_background": "light"
     },
     "output_type": "display_data"
    }
   ],
   "source": [
    "var = 'Population'\n",
    "\n",
    "sns.scatterplot(x=var, y = target, data = data)\n",
    "plt.show()"
   ]
  },
  {
   "cell_type": "code",
   "execution_count": 58,
   "metadata": {},
   "outputs": [
    {
     "data": {
      "image/png": "[encoded data removed]",
      "text/plain": [
       "<Figure size 432x288 with 1 Axes>"
      ]
     },
     "metadata": {
      "needs_background": "light"
     },
     "output_type": "display_data"
    }
   ],
   "source": [
    "sns.regplot(x=var, y = target, data = data)\n",
    "plt.show()"
   ]
  },
  {
   "cell_type": "code",
   "execution_count": 59,
   "metadata": {},
   "outputs": [
    {
     "data": {
      "image/png": "[encoded data removed]",
      "text/plain": [
       "<Figure size 432x432 with 3 Axes>"
      ]
     },
     "metadata": {
      "needs_background": "light"
     },
     "output_type": "display_data"
    }
   ],
   "source": [
    "sns.jointplot(x=var, y = target, data = data)\n",
    "plt.show()"
   ]
  },
  {
   "cell_type": "markdown",
   "metadata": {},
   "source": [
    "2) 수치화 : 상관분석"
   ]
  },
  {
   "cell_type": "code",
   "execution_count": 60,
   "metadata": {},
   "outputs": [
    {
     "name": "stdout",
     "output_type": "stream",
     "text": [
      "상관계수 : 0.050470984472039196, p-value : 0.31398160931903\n"
     ]
    }
   ],
   "source": [
    "result = spst.pearsonr(data[var], data[target])\n",
    "print(f'상관계수 : {result[0]}, p-value : {result[1]}')"
   ]
  },
  {
   "cell_type": "markdown",
   "metadata": {},
   "source": [
    "* 인구수에 따라 판매량에 차이가 없어 보임.\n",
    "* 그런데 이상함. 인구가 많을 수록 판매량이 증가하는 것 아닐까?\n",
    "    * 인구수만 보면 안되나? 그럼 어떻게하면 좋을까?"
   ]
  },
  {
   "cell_type": "markdown",
   "metadata": {},
   "source": [
    "#### ③ Price -> Sales"
   ]
  },
  {
   "cell_type": "code",
   "execution_count": 61,
   "metadata": {},
   "outputs": [
    {
     "data": {
      "image/png": "[encoded data removed]",
      "text/plain": [
       "<Figure size 432x288 with 1 Axes>"
      ]
     },
     "metadata": {
      "needs_background": "light"
     },
     "output_type": "display_data"
    }
   ],
   "source": [
    "var = 'Price'\n",
    "\n",
    "sns.scatterplot(x=var, y = target, data = data)\n",
    "plt.show()"
   ]
  },
  {
   "cell_type": "code",
   "execution_count": 62,
   "metadata": {},
   "outputs": [
    {
     "data": {
      "image/png": "[encoded data removed]",
      "text/plain": [
       "<Figure size 432x288 with 1 Axes>"
      ]
     },
     "metadata": {
      "needs_background": "light"
     },
     "output_type": "display_data"
    }
   ],
   "source": [
    "sns.regplot(x=var, y = target, data = data)\n",
    "plt.show()"
   ]
  },
  {
   "cell_type": "code",
   "execution_count": 63,
   "metadata": {},
   "outputs": [
    {
     "data": {
      "image/png": "[encoded data removed]",
      "text/plain": [
       "<Figure size 432x432 with 3 Axes>"
      ]
     },
     "metadata": {
      "needs_background": "light"
     },
     "output_type": "display_data"
    }
   ],
   "source": [
    "sns.jointplot(x=var, y = target, data = data)\n",
    "plt.show()"
   ]
  },
  {
   "cell_type": "markdown",
   "metadata": {},
   "source": [
    "2) 수치화 : 상관분석"
   ]
  },
  {
   "cell_type": "code",
   "execution_count": 64,
   "metadata": {},
   "outputs": [
    {
     "name": "stdout",
     "output_type": "stream",
     "text": [
      "상관계수 : -0.4449507278465725, p-value : 7.61818701191294e-21\n"
     ]
    }
   ],
   "source": [
    "result = spst.pearsonr(data[var], data[target])\n",
    "print(f'상관계수 : {result[0]}, p-value : {result[1]}')"
   ]
  },
  {
   "cell_type": "markdown",
   "metadata": {},
   "source": [
    "* 자사 상품 판매가가 높을 수록 판매량이 낮아짐. 상관관계가 강하지는 않음."
   ]
  },
  {
   "cell_type": "markdown",
   "metadata": {},
   "source": [
    "#### ④ Age -> Sales"
   ]
  },
  {
   "cell_type": "code",
   "execution_count": 65,
   "metadata": {},
   "outputs": [
    {
     "data": {
      "image/png": "[encoded data removed]",
      "text/plain": [
       "<Figure size 432x288 with 1 Axes>"
      ]
     },
     "metadata": {
      "needs_background": "light"
     },
     "output_type": "display_data"
    }
   ],
   "source": [
    "var = 'Age'\n",
    "\n",
    "sns.scatterplot(x=var, y = target, data = data)\n",
    "plt.show()"
   ]
  },
  {
   "cell_type": "code",
   "execution_count": 66,
   "metadata": {},
   "outputs": [
    {
     "data": {
      "image/png": "[encoded data removed]",
      "text/plain": [
       "<Figure size 432x288 with 1 Axes>"
      ]
     },
     "metadata": {
      "needs_background": "light"
     },
     "output_type": "display_data"
    }
   ],
   "source": [
    "sns.regplot(x=var, y = target, data = data)\n",
    "plt.show()"
   ]
  },
  {
   "cell_type": "code",
   "execution_count": 67,
   "metadata": {},
   "outputs": [
    {
     "data": {
      "image/png": "[encoded data removed]",
      "text/plain": [
       "<Figure size 432x432 with 3 Axes>"
      ]
     },
     "metadata": {
      "needs_background": "light"
     },
     "output_type": "display_data"
    }
   ],
   "source": [
    "sns.jointplot(x=var, y = target, data = data)\n",
    "plt.show()"
   ]
  },
  {
   "cell_type": "markdown",
   "metadata": {},
   "source": [
    "2) 수치화 : 상관분석"
   ]
  },
  {
   "cell_type": "code",
   "execution_count": 68,
   "metadata": {},
   "outputs": [
    {
     "name": "stdout",
     "output_type": "stream",
     "text": [
      "상관계수 : -0.23181543960457654, p-value : 2.7889498393711916e-06\n"
     ]
    }
   ],
   "source": [
    "result = spst.pearsonr(data[var], data[target])\n",
    "print(f'상관계수 : {result[0]}, p-value : {result[1]}')"
   ]
  },
  {
   "cell_type": "markdown",
   "metadata": {},
   "source": [
    "* 평균 연령에 따라 판매량에는 차이가 있으나 아주 약한 관계입니다."
   ]
  },
  {
   "cell_type": "markdown",
   "metadata": {},
   "source": [
    "#### ⑤ CompPrice -> Sales"
   ]
  },
  {
   "cell_type": "code",
   "execution_count": 69,
   "metadata": {},
   "outputs": [
    {
     "data": {
      "image/png": "[encoded data removed]",
      "text/plain": [
       "<Figure size 432x288 with 1 Axes>"
      ]
     },
     "metadata": {
      "needs_background": "light"
     },
     "output_type": "display_data"
    }
   ],
   "source": [
    "var = 'CompPrice'\n",
    "\n",
    "sns.scatterplot(x=var, y = target, data = data)\n",
    "plt.show()"
   ]
  },
  {
   "cell_type": "code",
   "execution_count": 70,
   "metadata": {},
   "outputs": [
    {
     "data": {
      "image/png": "[encoded data removed]",
      "text/plain": [
       "<Figure size 432x288 with 1 Axes>"
      ]
     },
     "metadata": {
      "needs_background": "light"
     },
     "output_type": "display_data"
    }
   ],
   "source": [
    "sns.regplot(x=var, y = target, data = data)\n",
    "plt.show()"
   ]
  },
  {
   "cell_type": "code",
   "execution_count": 71,
   "metadata": {},
   "outputs": [
    {
     "data": {
      "image/png": "[encoded data removed]",
      "text/plain": [
       "<Figure size 432x432 with 3 Axes>"
      ]
     },
     "metadata": {
      "needs_background": "light"
     },
     "output_type": "display_data"
    }
   ],
   "source": [
    "sns.jointplot(x=var, y = target, data = data)\n",
    "plt.show()"
   ]
  },
  {
   "cell_type": "markdown",
   "metadata": {},
   "source": [
    "2) 수치화 : 상관분석"
   ]
  },
  {
   "cell_type": "code",
   "execution_count": 72,
   "metadata": {},
   "outputs": [
    {
     "name": "stdout",
     "output_type": "stream",
     "text": [
      "상관계수 : 0.06407872955062152, p-value : 0.2009398289418295\n"
     ]
    }
   ],
   "source": [
    "result = spst.pearsonr(data[var], data[target])\n",
    "print(f'상관계수 : {result[0]}, p-value : {result[1]}')"
   ]
  },
  {
   "cell_type": "markdown",
   "metadata": {},
   "source": [
    "관계가 없습니다. 그런데 찜찜...."
   ]
  },
  {
   "cell_type": "markdown",
   "metadata": {},
   "source": [
    "* 가설 : 경쟁사 가격은 우리 매출에 영향을 줄 것이다. \n",
    "    * 대립가설은 기각?\n",
    "    * 가설을 수정하면 어떨까?\n",
    "    * 경쟁사 가격과 자사제품 가격의 차이를 가격경쟁력이라고 보고 분석하면 어떨까?"
   ]
  },
  {
   "cell_type": "code",
   "execution_count": 73,
   "metadata": {},
   "outputs": [
    {
     "data": {
      "image/png": "[encoded data removed]",
      "text/plain": [
       "<Figure size 864x288 with 3 Axes>"
      ]
     },
     "metadata": {
      "needs_background": "light"
     },
     "output_type": "display_data"
    }
   ],
   "source": [
    "data['Competit'] = data['CompPrice'] - data['Price']\n",
    "\n",
    "plt.figure(figsize = (12,4))\n",
    "plt.subplot(1,3,1)\n",
    "sns.scatterplot(x = 'Price', y ='Sales', data = data)\n",
    "result = spst.pearsonr(data['Price'], data['Sales'])\n",
    "plt.title(round(result[0],4))\n",
    "\n",
    "plt.subplot(1,3,2)\n",
    "sns.scatterplot(x = 'CompPrice', y ='Sales', data = data)\n",
    "result = spst.pearsonr(data['CompPrice'], data['Sales'])\n",
    "plt.title(round(result[0],4))\n",
    "\n",
    "plt.subplot(1,3,3)\n",
    "sns.scatterplot(x = 'Competit', y ='Sales', data = data)\n",
    "result = spst.pearsonr(data['Competit'], data['Sales'])\n",
    "plt.title(round(result[0],4))\n",
    "plt.show()"
   ]
  },
  {
   "cell_type": "markdown",
   "metadata": {},
   "source": [
    "### (2) 범주형 X --> Y"
   ]
  },
  {
   "cell_type": "markdown",
   "metadata": {},
   "source": [
    "#### ① ShelveLoc-> Sales"
   ]
  },
  {
   "cell_type": "code",
   "execution_count": 74,
   "metadata": {},
   "outputs": [
    {
     "data": {
      "image/png": "[encoded data removed]",
      "text/plain": [
       "<Figure size 432x288 with 1 Axes>"
      ]
     },
     "metadata": {
      "needs_background": "light"
     },
     "output_type": "display_data"
    }
   ],
   "source": [
    "var = 'ShelveLoc'\n",
    "\n",
    "sns.barplot(x=var, y=target, data = data)\n",
    "plt.show()"
   ]
  },
  {
   "cell_type": "markdown",
   "metadata": {},
   "source": [
    "2) 수치화 : t-test, anova"
   ]
  },
  {
   "cell_type": "code",
   "execution_count": 75,
   "metadata": {},
   "outputs": [
    {
     "data": {
      "text/plain": [
       "F_onewayResult(statistic=92.22990509910348, pvalue=1.26693609015938e-33)"
      ]
     },
     "execution_count": 75,
     "metadata": {},
     "output_type": "execute_result"
    }
   ],
   "source": [
    "d_b = data.loc[data[var]=='Bad', target]\n",
    "d_m = data.loc[data[var]=='Medium', target]\n",
    "d_g = data.loc[data[var]=='Good', target]\n",
    "\n",
    "spst.f_oneway(d_b, d_m, d_g)"
   ]
  },
  {
   "cell_type": "markdown",
   "metadata": {},
   "source": [
    "* 진열상태와 판매량은 강한 관계가 있습니다"
   ]
  },
  {
   "cell_type": "markdown",
   "metadata": {},
   "source": [
    "#### ② US-> Sales"
   ]
  },
  {
   "cell_type": "code",
   "execution_count": 76,
   "metadata": {},
   "outputs": [
    {
     "data": {
      "image/png": "[encoded data removed]",
      "text/plain": [
       "<Figure size 432x288 with 1 Axes>"
      ]
     },
     "metadata": {
      "needs_background": "light"
     },
     "output_type": "display_data"
    }
   ],
   "source": [
    "var = 'US'\n",
    "\n",
    "sns.barplot(x=var, y=target, data = data)\n",
    "plt.show()"
   ]
  },
  {
   "cell_type": "markdown",
   "metadata": {},
   "source": [
    "2) 수치화 : t-test, anova"
   ]
  },
  {
   "cell_type": "code",
   "execution_count": 77,
   "metadata": {},
   "outputs": [
    {
     "data": {
      "text/plain": [
       "Ttest_indResult(statistic=3.589738747802499, pvalue=0.00037233958701471517)"
      ]
     },
     "execution_count": 77,
     "metadata": {},
     "output_type": "execute_result"
    }
   ],
   "source": [
    "d_y = data.loc[data[var]=='Yes', target]\n",
    "d_n = data.loc[data[var]=='No', target]\n",
    "\n",
    "spst.ttest_ind(d_y, d_n)"
   ]
  },
  {
   "cell_type": "markdown",
   "metadata": {},
   "source": [
    "* 국내외 여부에 따른 판매랑에 차이가 있으나 크지는 않습니다."
   ]
  },
  {
   "cell_type": "markdown",
   "metadata": {},
   "source": [
    "### (3) 관계 정리하기"
   ]
  },
  {
   "cell_type": "markdown",
   "metadata": {},
   "source": [
    "① 강한관계"
   ]
  },
  {
   "cell_type": "markdown",
   "metadata": {},
   "source": [
    "선반진열상태, 가격경쟁력"
   ]
  },
  {
   "cell_type": "markdown",
   "metadata": {},
   "source": [
    "② 중간관계"
   ]
  },
  {
   "cell_type": "markdown",
   "metadata": {},
   "source": [
    "광고비, 자사상품 가격, 평균연령, US"
   ]
  },
  {
   "cell_type": "markdown",
   "metadata": {},
   "source": [
    "③ 관계없음"
   ]
  },
  {
   "cell_type": "markdown",
   "metadata": {},
   "source": [
    "인구수, 경쟁사 가격"
   ]
  },
  {
   "cell_type": "markdown",
   "metadata": {},
   "source": [
    "### 데이터 준비"
   ]
  },
  {
   "cell_type": "code",
   "execution_count": 78,
   "metadata": {},
   "outputs": [
    {
     "data": {
      "text/html": [
       "<div>\n",
       "<style scoped>\n",
       "    .dataframe tbody tr th:only-of-type {\n",
       "        vertical-align: middle;\n",
       "    }\n",
       "\n",
       "    .dataframe tbody tr th {\n",
       "        vertical-align: top;\n",
       "    }\n",
       "\n",
       "    .dataframe thead th {\n",
       "        text-align: right;\n",
       "    }\n",
       "</style>\n",
       "<table border=\"1\" class=\"dataframe\">\n",
       "  <thead>\n",
       "    <tr style=\"text-align: right;\">\n",
       "      <th></th>\n",
       "      <th>Sales</th>\n",
       "      <th>CompPrice</th>\n",
       "      <th>Income</th>\n",
       "      <th>Advertising</th>\n",
       "      <th>Population</th>\n",
       "      <th>Price</th>\n",
       "      <th>ShelveLoc</th>\n",
       "      <th>Age</th>\n",
       "      <th>Urban</th>\n",
       "      <th>US</th>\n",
       "      <th>Competit</th>\n",
       "    </tr>\n",
       "  </thead>\n",
       "  <tbody>\n",
       "    <tr>\n",
       "      <th>0</th>\n",
       "      <td>9.50</td>\n",
       "      <td>138</td>\n",
       "      <td>73</td>\n",
       "      <td>11</td>\n",
       "      <td>276</td>\n",
       "      <td>120</td>\n",
       "      <td>Bad</td>\n",
       "      <td>42</td>\n",
       "      <td>Yes</td>\n",
       "      <td>Yes</td>\n",
       "      <td>18</td>\n",
       "    </tr>\n",
       "    <tr>\n",
       "      <th>1</th>\n",
       "      <td>11.22</td>\n",
       "      <td>111</td>\n",
       "      <td>48</td>\n",
       "      <td>16</td>\n",
       "      <td>260</td>\n",
       "      <td>83</td>\n",
       "      <td>Good</td>\n",
       "      <td>65</td>\n",
       "      <td>Yes</td>\n",
       "      <td>Yes</td>\n",
       "      <td>28</td>\n",
       "    </tr>\n",
       "    <tr>\n",
       "      <th>2</th>\n",
       "      <td>10.06</td>\n",
       "      <td>113</td>\n",
       "      <td>35</td>\n",
       "      <td>10</td>\n",
       "      <td>269</td>\n",
       "      <td>80</td>\n",
       "      <td>Medium</td>\n",
       "      <td>59</td>\n",
       "      <td>Yes</td>\n",
       "      <td>Yes</td>\n",
       "      <td>33</td>\n",
       "    </tr>\n",
       "    <tr>\n",
       "      <th>3</th>\n",
       "      <td>7.40</td>\n",
       "      <td>117</td>\n",
       "      <td>100</td>\n",
       "      <td>4</td>\n",
       "      <td>466</td>\n",
       "      <td>97</td>\n",
       "      <td>Medium</td>\n",
       "      <td>55</td>\n",
       "      <td>Yes</td>\n",
       "      <td>Yes</td>\n",
       "      <td>20</td>\n",
       "    </tr>\n",
       "    <tr>\n",
       "      <th>4</th>\n",
       "      <td>4.15</td>\n",
       "      <td>141</td>\n",
       "      <td>64</td>\n",
       "      <td>3</td>\n",
       "      <td>340</td>\n",
       "      <td>128</td>\n",
       "      <td>Bad</td>\n",
       "      <td>38</td>\n",
       "      <td>Yes</td>\n",
       "      <td>No</td>\n",
       "      <td>13</td>\n",
       "    </tr>\n",
       "  </tbody>\n",
       "</table>\n",
       "</div>"
      ],
      "text/plain": [
       "   Sales  CompPrice  Income  Advertising  Population  Price ShelveLoc  Age  \\\n",
       "0   9.50        138      73           11         276    120       Bad   42   \n",
       "1  11.22        111      48           16         260     83      Good   65   \n",
       "2  10.06        113      35           10         269     80    Medium   59   \n",
       "3   7.40        117     100            4         466     97    Medium   55   \n",
       "4   4.15        141      64            3         340    128       Bad   38   \n",
       "\n",
       "  Urban   US  Competit  \n",
       "0   Yes  Yes        18  \n",
       "1   Yes  Yes        28  \n",
       "2   Yes  Yes        33  \n",
       "3   Yes  Yes        20  \n",
       "4   Yes   No        13  "
      ]
     },
     "execution_count": 78,
     "metadata": {},
     "output_type": "execute_result"
    }
   ],
   "source": [
    "data.head()"
   ]
  },
  {
   "cell_type": "code",
   "execution_count": 79,
   "metadata": {},
   "outputs": [
    {
     "data": {
      "text/plain": [
       "Medium    219\n",
       "Bad        96\n",
       "Good       85\n",
       "Name: ShelveLoc, dtype: int64"
      ]
     },
     "execution_count": 79,
     "metadata": {},
     "output_type": "execute_result"
    }
   ],
   "source": [
    "data['ShelveLoc'].value_counts()"
   ]
  },
  {
   "cell_type": "code",
   "execution_count": 80,
   "metadata": {},
   "outputs": [],
   "source": [
    "dummy_cols = ['Urban', 'US', 'ShelveLoc']\n",
    "data = pd.get_dummies(data, columns=dummy_cols, drop_first=True)"
   ]
  },
  {
   "cell_type": "code",
   "execution_count": 81,
   "metadata": {},
   "outputs": [
    {
     "data": {
      "text/html": [
       "<div>\n",
       "<style scoped>\n",
       "    .dataframe tbody tr th:only-of-type {\n",
       "        vertical-align: middle;\n",
       "    }\n",
       "\n",
       "    .dataframe tbody tr th {\n",
       "        vertical-align: top;\n",
       "    }\n",
       "\n",
       "    .dataframe thead th {\n",
       "        text-align: right;\n",
       "    }\n",
       "</style>\n",
       "<table border=\"1\" class=\"dataframe\">\n",
       "  <thead>\n",
       "    <tr style=\"text-align: right;\">\n",
       "      <th></th>\n",
       "      <th>Sales</th>\n",
       "      <th>CompPrice</th>\n",
       "      <th>Income</th>\n",
       "      <th>Advertising</th>\n",
       "      <th>Population</th>\n",
       "      <th>Price</th>\n",
       "      <th>Age</th>\n",
       "      <th>Competit</th>\n",
       "      <th>Urban_Yes</th>\n",
       "      <th>US_Yes</th>\n",
       "      <th>ShelveLoc_Good</th>\n",
       "      <th>ShelveLoc_Medium</th>\n",
       "    </tr>\n",
       "  </thead>\n",
       "  <tbody>\n",
       "    <tr>\n",
       "      <th>0</th>\n",
       "      <td>9.50</td>\n",
       "      <td>138</td>\n",
       "      <td>73</td>\n",
       "      <td>11</td>\n",
       "      <td>276</td>\n",
       "      <td>120</td>\n",
       "      <td>42</td>\n",
       "      <td>18</td>\n",
       "      <td>1</td>\n",
       "      <td>1</td>\n",
       "      <td>0</td>\n",
       "      <td>0</td>\n",
       "    </tr>\n",
       "    <tr>\n",
       "      <th>1</th>\n",
       "      <td>11.22</td>\n",
       "      <td>111</td>\n",
       "      <td>48</td>\n",
       "      <td>16</td>\n",
       "      <td>260</td>\n",
       "      <td>83</td>\n",
       "      <td>65</td>\n",
       "      <td>28</td>\n",
       "      <td>1</td>\n",
       "      <td>1</td>\n",
       "      <td>1</td>\n",
       "      <td>0</td>\n",
       "    </tr>\n",
       "    <tr>\n",
       "      <th>2</th>\n",
       "      <td>10.06</td>\n",
       "      <td>113</td>\n",
       "      <td>35</td>\n",
       "      <td>10</td>\n",
       "      <td>269</td>\n",
       "      <td>80</td>\n",
       "      <td>59</td>\n",
       "      <td>33</td>\n",
       "      <td>1</td>\n",
       "      <td>1</td>\n",
       "      <td>0</td>\n",
       "      <td>1</td>\n",
       "    </tr>\n",
       "    <tr>\n",
       "      <th>3</th>\n",
       "      <td>7.40</td>\n",
       "      <td>117</td>\n",
       "      <td>100</td>\n",
       "      <td>4</td>\n",
       "      <td>466</td>\n",
       "      <td>97</td>\n",
       "      <td>55</td>\n",
       "      <td>20</td>\n",
       "      <td>1</td>\n",
       "      <td>1</td>\n",
       "      <td>0</td>\n",
       "      <td>1</td>\n",
       "    </tr>\n",
       "    <tr>\n",
       "      <th>4</th>\n",
       "      <td>4.15</td>\n",
       "      <td>141</td>\n",
       "      <td>64</td>\n",
       "      <td>3</td>\n",
       "      <td>340</td>\n",
       "      <td>128</td>\n",
       "      <td>38</td>\n",
       "      <td>13</td>\n",
       "      <td>1</td>\n",
       "      <td>0</td>\n",
       "      <td>0</td>\n",
       "      <td>0</td>\n",
       "    </tr>\n",
       "  </tbody>\n",
       "</table>\n",
       "</div>"
      ],
      "text/plain": [
       "   Sales  CompPrice  Income  Advertising  Population  Price  Age  Competit  \\\n",
       "0   9.50        138      73           11         276    120   42        18   \n",
       "1  11.22        111      48           16         260     83   65        28   \n",
       "2  10.06        113      35           10         269     80   59        33   \n",
       "3   7.40        117     100            4         466     97   55        20   \n",
       "4   4.15        141      64            3         340    128   38        13   \n",
       "\n",
       "   Urban_Yes  US_Yes  ShelveLoc_Good  ShelveLoc_Medium  \n",
       "0          1       1               0                 0  \n",
       "1          1       1               1                 0  \n",
       "2          1       1               0                 1  \n",
       "3          1       1               0                 1  \n",
       "4          1       0               0                 0  "
      ]
     },
     "execution_count": 81,
     "metadata": {},
     "output_type": "execute_result"
    }
   ],
   "source": [
    "data.head()"
   ]
  },
  {
   "cell_type": "code",
   "execution_count": 82,
   "metadata": {},
   "outputs": [],
   "source": [
    "# target 확인\n",
    "target = 'Sales'\n",
    "\n",
    "# 데이터 분리\n",
    "x = data.drop(target, axis=1)\n",
    "y = data[target]"
   ]
  },
  {
   "cell_type": "code",
   "execution_count": 83,
   "metadata": {},
   "outputs": [],
   "source": [
    "# 정규화\n",
    "x = (x - x.min()) / (x.max() - x.min())"
   ]
  },
  {
   "cell_type": "code",
   "execution_count": 84,
   "metadata": {},
   "outputs": [],
   "source": [
    "from sklearn.model_selection import train_test_split\n",
    "\n",
    "# 7:3으로 분리\n",
    "x_train, x_test, y_train, y_test = train_test_split(\n",
    "    x, y, test_size=0.3, random_state=2022, shuffle=False)"
   ]
  },
  {
   "cell_type": "markdown",
   "metadata": {},
   "source": [
    "## Linear Regression"
   ]
  },
  {
   "cell_type": "code",
   "execution_count": 85,
   "metadata": {},
   "outputs": [],
   "source": [
    "from sklearn.linear_model import LinearRegression\n",
    "from sklearn.metrics import mean_absolute_error, r2_score\n",
    "from sklearn.model_selection import cross_val_score, KFold, StratifiedKFold"
   ]
  },
  {
   "cell_type": "code",
   "execution_count": 86,
   "metadata": {},
   "outputs": [],
   "source": [
    "model = LinearRegression()"
   ]
  },
  {
   "cell_type": "code",
   "execution_count": 87,
   "metadata": {},
   "outputs": [],
   "source": [
    "cv_score = cross_val_score(model, x_train, y_train, cv=10)"
   ]
  },
  {
   "cell_type": "code",
   "execution_count": 88,
   "metadata": {},
   "outputs": [],
   "source": [
    "# 결과수집\n",
    "result = {}\n",
    "result['Linear Regression'] = cv_score.mean()"
   ]
  },
  {
   "cell_type": "markdown",
   "metadata": {},
   "source": [
    "## KNN"
   ]
  },
  {
   "cell_type": "code",
   "execution_count": 89,
   "metadata": {},
   "outputs": [],
   "source": [
    "from sklearn.neighbors import KNeighborsRegressor"
   ]
  },
  {
   "cell_type": "code",
   "execution_count": 90,
   "metadata": {},
   "outputs": [],
   "source": [
    "model = KNeighborsRegressor()"
   ]
  },
  {
   "cell_type": "code",
   "execution_count": 91,
   "metadata": {},
   "outputs": [],
   "source": [
    "cv_score = cross_val_score(model, x_train, y_train, cv=10)"
   ]
  },
  {
   "cell_type": "code",
   "execution_count": 92,
   "metadata": {},
   "outputs": [],
   "source": [
    "result['KNN'] = cv_score.mean()"
   ]
  },
  {
   "cell_type": "markdown",
   "metadata": {},
   "source": [
    "## Decision Tree"
   ]
  },
  {
   "cell_type": "code",
   "execution_count": 93,
   "metadata": {},
   "outputs": [],
   "source": [
    "from sklearn.tree import DecisionTreeRegressor"
   ]
  },
  {
   "cell_type": "code",
   "execution_count": 94,
   "metadata": {},
   "outputs": [],
   "source": [
    "model = DecisionTreeRegressor(random_state=2022)"
   ]
  },
  {
   "cell_type": "code",
   "execution_count": 95,
   "metadata": {},
   "outputs": [],
   "source": [
    "cv_score = cross_val_score(model, x_train, y_train, cv=10)"
   ]
  },
  {
   "cell_type": "code",
   "execution_count": 96,
   "metadata": {},
   "outputs": [],
   "source": [
    "result['Decision Tree'] = cv_score.mean()"
   ]
  },
  {
   "cell_type": "markdown",
   "metadata": {},
   "source": [
    "## SVM"
   ]
  },
  {
   "cell_type": "code",
   "execution_count": 97,
   "metadata": {},
   "outputs": [],
   "source": [
    "from sklearn.svm import SVR"
   ]
  },
  {
   "cell_type": "code",
   "execution_count": 98,
   "metadata": {},
   "outputs": [],
   "source": [
    "model = SVR()"
   ]
  },
  {
   "cell_type": "code",
   "execution_count": 99,
   "metadata": {},
   "outputs": [],
   "source": [
    "cv_score = cross_val_score(model, x_train, y_train, cv=10)"
   ]
  },
  {
   "cell_type": "code",
   "execution_count": 100,
   "metadata": {},
   "outputs": [],
   "source": [
    "result['SVR'] = cv_score.mean()"
   ]
  },
  {
   "cell_type": "markdown",
   "metadata": {},
   "source": [
    "## Random Forest"
   ]
  },
  {
   "cell_type": "code",
   "execution_count": 101,
   "metadata": {},
   "outputs": [],
   "source": [
    "from sklearn.ensemble import RandomForestRegressor"
   ]
  },
  {
   "cell_type": "code",
   "execution_count": 102,
   "metadata": {},
   "outputs": [],
   "source": [
    "model = RandomForestRegressor(random_state=2022)"
   ]
  },
  {
   "cell_type": "code",
   "execution_count": 103,
   "metadata": {},
   "outputs": [],
   "source": [
    "cv_score = cross_val_score(model, x_train, y_train, cv=10)"
   ]
  },
  {
   "cell_type": "code",
   "execution_count": 104,
   "metadata": {},
   "outputs": [],
   "source": [
    "result['Random Forest'] = cv_score.mean()"
   ]
  },
  {
   "cell_type": "markdown",
   "metadata": {},
   "source": [
    "## XGBoost"
   ]
  },
  {
   "cell_type": "code",
   "execution_count": 105,
   "metadata": {},
   "outputs": [],
   "source": [
    "from xgboost import XGBRegressor"
   ]
  },
  {
   "cell_type": "code",
   "execution_count": 106,
   "metadata": {},
   "outputs": [],
   "source": [
    "model = XGBRegressor(random_state=2022)"
   ]
  },
  {
   "cell_type": "code",
   "execution_count": 107,
   "metadata": {},
   "outputs": [],
   "source": [
    "cv_score = cross_val_score(model, x_train, y_train, cv=10)"
   ]
  },
  {
   "cell_type": "code",
   "execution_count": 108,
   "metadata": {},
   "outputs": [],
   "source": [
    "result['XGBoost'] = cv_score.mean()"
   ]
  },
  {
   "cell_type": "markdown",
   "metadata": {},
   "source": [
    "## 결과 확인"
   ]
  },
  {
   "cell_type": "code",
   "execution_count": 109,
   "metadata": {},
   "outputs": [
    {
     "name": "stdout",
     "output_type": "stream",
     "text": [
      "========================================\n",
      "Linear Regression 0.861\n",
      "KNN 0.472\n",
      "Decision Tree 0.478\n",
      "SVR 0.731\n",
      "Random Forest 0.729\n",
      "XGBoost 0.697\n",
      "========================================\n"
     ]
    }
   ],
   "source": [
    "print('=' * 40)\n",
    "for m_name, score in result.items():\n",
    "    print(m_name, score.round(3))\n",
    "print('=' * 40)"
   ]
  },
  {
   "cell_type": "code",
   "execution_count": 110,
   "metadata": {},
   "outputs": [],
   "source": [
    "from sklearn.model_selection import GridSearchCV"
   ]
  },
  {
   "cell_type": "code",
   "execution_count": 111,
   "metadata": {},
   "outputs": [],
   "source": [
    "param = {'max_depth': range(3, 11),\n",
    "         'n_estimators': range(50, 111, 10)\n",
    "        }\n",
    "\n",
    "model_xgb = XGBRegressor(random_state=2022)\n",
    "\n",
    "model = GridSearchCV(model_xgb,\n",
    "                     param,\n",
    "                     cv=5,\n",
    "                     scoring='r2'\n",
    "                    )"
   ]
  },
  {
   "cell_type": "code",
   "execution_count": 112,
   "metadata": {},
   "outputs": [
    {
     "data": {
      "text/plain": [
       "GridSearchCV(cv=5,\n",
       "             estimator=XGBRegressor(base_score=None, booster=None,\n",
       "                                    colsample_bylevel=None,\n",
       "                                    colsample_bynode=None,\n",
       "                                    colsample_bytree=None,\n",
       "                                    enable_categorical=False, gamma=None,\n",
       "                                    gpu_id=None, importance_type=None,\n",
       "                                    interaction_constraints=None,\n",
       "                                    learning_rate=None, max_delta_step=None,\n",
       "                                    max_depth=None, min_child_weight=None,\n",
       "                                    missing=nan, monotone_constraints=None,\n",
       "                                    n_estimators=100, n_jobs=None,\n",
       "                                    num_parallel_tree=None, predictor=None,\n",
       "                                    random_state=2022, reg_alpha=None,\n",
       "                                    reg_lambda=None, scale_pos_weight=None,\n",
       "                                    subsample=None, tree_method=None,\n",
       "                                    validate_parameters=None, verbosity=None),\n",
       "             param_grid={'max_depth': range(3, 11),\n",
       "                         'n_estimators': range(50, 111, 10)},\n",
       "             scoring='r2')"
      ]
     },
     "execution_count": 112,
     "metadata": {},
     "output_type": "execute_result"
    }
   ],
   "source": [
    "model.fit(x_train, y_train)"
   ]
  },
  {
   "cell_type": "code",
   "execution_count": 113,
   "metadata": {},
   "outputs": [
    {
     "name": "stdout",
     "output_type": "stream",
     "text": [
      "최적 파라미터 : {'max_depth': 4, 'n_estimators': 50}\n",
      "성능 확인 : 0.7318697569165172\n"
     ]
    }
   ],
   "source": [
    "print('최적 파라미터 :', model.best_params_)\n",
    "print('성능 확인 :', model.best_score_)"
   ]
  },
  {
   "cell_type": "code",
   "execution_count": 114,
   "metadata": {},
   "outputs": [],
   "source": [
    "y_pred = model.predict(x_test)"
   ]
  },
  {
   "cell_type": "code",
   "execution_count": 115,
   "metadata": {},
   "outputs": [
    {
     "name": "stdout",
     "output_type": "stream",
     "text": [
      "MAE : 1.13339511624972\n",
      "r2 score : 0.7384194850631134\n"
     ]
    }
   ],
   "source": [
    "print('MAE :', mean_absolute_error(y_test, y_pred))\n",
    "print('r2 score :', r2_score(y_test, y_pred))"
   ]
  }
 ],
 "metadata": {
  "colab": {
   "collapsed_sections": [
    "2KcdJrQNfJCZ",
    "9WGX3Pm8g8HV",
    "CPQ4kqneg8SS",
    "oGaBjzSYg8ch",
    "Pf9iFSXpg8mZ",
    "-MNN7Zplg8wC",
    "9sLeiF5Kg9EO",
    "GmxZa7uvhyXO",
    "ieLyLWqehz_N"
   ],
   "name": "06과 단변량분석 종합실습과제2_참조답안.ipynb",
   "provenance": [],
   "toc_visible": true
  },
  "kernelspec": {
   "display_name": "Python 3",
   "language": "python",
   "name": "python3"
  },
  "language_info": {
   "codemirror_mode": {
    "name": "ipython",
    "version": 3
   },
   "file_extension": ".py",
   "mimetype": "text/x-python",
   "name": "python",
   "nbconvert_exporter": "python",
   "pygments_lexer": "ipython3",
   "version": "3.8.8"
  },
  "toc": {
   "base_numbering": 1,
   "nav_menu": {},
   "number_sections": true,
   "sideBar": true,
   "skip_h1_title": false,
   "title_cell": "Table of Contents",
   "title_sidebar": "Contents",
   "toc_cell": false,
   "toc_position": {},
   "toc_section_display": true,
   "toc_window_display": false
  }
 },
 "nbformat": 4,
 "nbformat_minor": 1
}
